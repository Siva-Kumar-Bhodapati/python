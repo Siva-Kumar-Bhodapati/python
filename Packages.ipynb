{
 "cells": [
  {
   "cell_type": "markdown",
   "metadata": {},
   "source": [
    "# 5. Packages"
   ]
  },
  {
   "cell_type": "code",
   "execution_count": null,
   "metadata": {
    "collapsed": true
   },
   "outputs": [],
   "source": [
    "import math\n",
    "\n",
    "print(math.sqrt(4))\n",
    "print(math.ceil(4.3))\n",
    "print(math.floor(4.9))\n",
    "print(math.exp(1))\n",
    "print(math.log(16,2))"
   ]
  },
  {
   "cell_type": "code",
   "execution_count": null,
   "metadata": {
    "collapsed": true
   },
   "outputs": [],
   "source": [
    "import math as mt\n",
    "\n",
    "print(mt.sqrt(4))\n",
    "print(mt.ceil(4.3))\n",
    "print(mt.floor(4.9))\n",
    "print(mt.exp(1))\n",
    "print(mt.log(16,2))"
   ]
  },
  {
   "cell_type": "code",
   "execution_count": null,
   "metadata": {
    "collapsed": true
   },
   "outputs": [],
   "source": [
    "from math import sqrt\n",
    "\n",
    "sqrt(4)"
   ]
  },
  {
   "cell_type": "code",
   "execution_count": 36,
   "metadata": {},
   "outputs": [
    {
     "name": "stdout",
     "output_type": "stream",
     "text": [
      "41\n",
      "3\n",
      "[8, 6, 4, 3, 9, 5, 10, 2, 1, 7]\n"
     ]
    }
   ],
   "source": [
    "import random\n",
    "\n",
    "random.seed(7)\n",
    "print(random.randint(0,100))\n",
    "l = [1,2,3,4,5,6,7,8,9,10]\n",
    "print(random.choice(l))\n",
    "random.shuffle(l)\n",
    "print(l)"
   ]
  },
  {
   "cell_type": "code",
   "execution_count": 1,
   "metadata": {},
   "outputs": [
    {
     "name": "stdout",
     "output_type": "stream",
     "text": [
      "abcdefghijklmnopqrstuvwxyzABCDEFGHIJKLMNOPQRSTUVWXYZ\n",
      "abcdefghijklmnopqrstuvwxyz\n",
      "ABCDEFGHIJKLMNOPQRSTUVWXYZ\n",
      "0123456789\n",
      " \t\n",
      "\r",
      "\u000b",
      "\f",
      "\n",
      "!\"#$%&'()*+,-./:;<=>?@[\\]^_`{|}~\n"
     ]
    }
   ],
   "source": [
    "import string\n",
    "\n",
    "print(string.ascii_letters)\n",
    "print(string.ascii_lowercase)\n",
    "print(string.ascii_uppercase)\n",
    "print(string.digits)\n",
    "print(string.whitespace)\n",
    "print(string.punctuation)"
   ]
  },
  {
   "cell_type": "code",
   "execution_count": 8,
   "metadata": {},
   "outputs": [
    {
     "name": "stdout",
     "output_type": "stream",
     "text": [
      "C:\\Users\\oubou\\Desktop\\Notebooks\n",
      "None\n",
      "C:\\Users\\oubou\\Desktop\n",
      "None\n",
      "['.ipynb_checkpoints', 'Data structures.ipynb', 'Data_structures.pdf', 'employee_file.csv', 'employee_file2.csv', 'encrypted.txt', 'Files.ipynb', 'Functions.ipynb', 'Functions.pdf', 'Hello_World.ipynb', 'Hello_World.pdf', 'Input_output.ipynb', 'Input_output.pdf', 'Loops & Conditions.ipynb', 'Loops_conditions.pdf', 'Object_Oriented_Programmation.ipynb', 'packages.ipynb', 'test.txt', 'test2.txt', 'text1.txt', 'text2.txt', 'Var_Types.ipynb', 'Var_Types.pdf']\n"
     ]
    }
   ],
   "source": [
    "import os\n",
    "\n",
    "print(os.getcwd())\n",
    "print(os.chdir(\"..\"))\n",
    "print(os.getcwd())\n",
    "print(os.chdir(\"Notebooks\"))\n",
    "print(os.listdir(\".\"))\n",
    "os.mkdir(\"New_Dir\")"
   ]
  },
  {
   "cell_type": "code",
   "execution_count": 30,
   "metadata": {},
   "outputs": [
    {
     "name": "stdout",
     "output_type": "stream",
     "text": [
      "[ 0  1  4  9 16 25]\n"
     ]
    },
    {
     "data": {
      "image/png": "[encoded data removed]",
      "text/plain": [
       "<Figure size 432x288 with 1 Axes>"
      ]
     },
     "metadata": {
      "needs_background": "light"
     },
     "output_type": "display_data"
    }
   ],
   "source": [
    "import numpy as np\n",
    "\n",
    "a = np.array([0,1,4,9,16,25])\n",
    "print(a)\n",
    "\n",
    "import matplotlib.pyplot as plt\n",
    "\n",
    "plt.plot(a)\n",
    "plt.xlabel('X axis')\n",
    "plt.ylabel('Y axis')\n",
    "plt.show()"
   ]
  },
  {
   "cell_type": "code",
   "execution_count": 17,
   "metadata": {},
   "outputs": [
    {
     "name": "stdout",
     "output_type": "stream",
     "text": [
      "This function has been imported !\n"
     ]
    }
   ],
   "source": [
    "import test_package as tp\n",
    "\n",
    "tp.package_function()"
   ]
  },
  {
   "cell_type": "markdown",
   "metadata": {},
   "source": [
    "# Exercices"
   ]
  },
  {
   "cell_type": "markdown",
   "metadata": {},
   "source": [
    "Create a function that creates a list of 10000 random ints (from 1 to 1000) and return the most present element"
   ]
  },
  {
   "cell_type": "code",
   "execution_count": 3,
   "metadata": {},
   "outputs": [
    {
     "name": "stdout",
     "output_type": "stream",
     "text": [
      "{201: 20}\n"
     ]
    }
   ],
   "source": [
    "import random\n",
    "\n",
    "def high_freq(ls, mi, mx):\n",
    "    num_dict = {k: 0 for k in range(mi, mx+1)}\n",
    "    for num in ls:\n",
    "        try:\n",
    "            num_dict[num] += 1\n",
    "        except:\n",
    "            pass\n",
    "    max_dict = dict()\n",
    "    for key, value in num_dict.items():\n",
    "        if not max_dict:\n",
    "            max_dict[key] = value\n",
    "        elif list(max_dict.values())[0] < value:\n",
    "            del max_dict\n",
    "            max_dict = {key: value}\n",
    "        elif list(max_dict.values())[0] == value:\n",
    "            max_dict[key] = value\n",
    "    return(max_dict)\n",
    "\n",
    "random.seed(5)\n",
    "rand_list = list()\n",
    "for i in range(1, 10001):\n",
    "    rand_list.append(random.randint(1,1001))\n",
    "print(high_freq(rand_list, 1, 1000))"
   ]
  },
  {
   "cell_type": "markdown",
   "metadata": {},
   "source": [
    "Create a function that takes a random number (from 1 to 1000), takes its square value and return its log if the decimal is greater or equal than 0.5, or return its exponential if the decimal is lower than 0.5"
   ]
  },
  {
   "cell_type": "code",
   "execution_count": 7,
   "metadata": {},
   "outputs": [
    {
     "name": "stdout",
     "output_type": "stream",
     "text": [
      "-0.8295096496230527\n"
     ]
    }
   ],
   "source": [
    "import math\n",
    "def log_exp():\n",
    "    num = random.random()\n",
    "    return math.log(num**2) if num >= 0.5 else math.exp(num)\n",
    "print(log_exp())"
   ]
  },
  {
   "cell_type": "markdown",
   "metadata": {},
   "source": [
    "Create a function that creates random sentences. A sentence is composed of subject (1st word), a verb (2nd word) and an object (3rd word). Each word is taken from a list of subjects, verbs and objects (that you will create). A sentence would for example be \"I like trains\" or \"Andy ate a bug\""
   ]
  },
  {
   "cell_type": "code",
   "execution_count": null,
   "metadata": {
    "collapsed": true
   },
   "outputs": [],
   "source": []
  },
  {
   "cell_type": "markdown",
   "metadata": {},
   "source": [
    "Create a function that takes a random number between 10000 and 100000 and returns a list with every number that can divide this number"
   ]
  },
  {
   "cell_type": "code",
   "execution_count": 14,
   "metadata": {},
   "outputs": [
    {
     "name": "stdout",
     "output_type": "stream",
     "text": [
      "7.745966692414834\n",
      "(95556, [2, 47778, 3, 31852, 4, 23889, 6, 15926, 12, 7963])\n",
      "(60, [2, 30, 3, 20, 4, 15, 5, 12, 6, 10])\n"
     ]
    }
   ],
   "source": [
    "print(math.sqrt(60))\n",
    "def factors(num):\n",
    "    _factors = list()\n",
    "    for i in range(2, num):\n",
    "        if i*i <= num:\n",
    "            if num % i == 0:\n",
    "                _factors.append(i)\n",
    "                _factors.append(num // i)\n",
    "        else:\n",
    "            break\n",
    "    return num, _factors\n",
    "print(factors(random.randint(10000, 100000)))\n",
    "print(factors(60))"
   ]
  },
  {
   "cell_type": "markdown",
   "metadata": {},
   "source": [
    "Create a function that creates a string of 10000 random characters. Then, create a dictionnary that counts how many times each letter occurs."
   ]
  },
  {
   "cell_type": "code",
   "execution_count": null,
   "metadata": {
    "collapsed": true
   },
   "outputs": [],
   "source": []
  },
  {
   "cell_type": "markdown",
   "metadata": {},
   "source": [
    "Create a function that counts the number of files/directories in the actual directory and creates a new files names \"n_files\" (with the number of files instead of the \"n\" in the name) where you writes at each line of the file the name of each file or directory"
   ]
  },
  {
   "cell_type": "code",
   "execution_count": 23,
   "metadata": {},
   "outputs": [
    {
     "name": "stdout",
     "output_type": "stream",
     "text": [
      "[0, 0, 0, 0, 0, 0, 0, 0, 0, 0, 1, 0, 0, 0, 0]\n",
      "[1, 0, 1, 0, 1, 0, 0, 1, 0, 0, 1, 0, 0, 0, 0]\n",
      "[0, 0, 1, 0, 0, 0, 0, 0, 0, 0, 0, 0, 0, 1, 0]\n",
      "[0, 0, 0, 0, 0, 0, 0, 0, 0, 0, 0, 0, 0, 0, 0]\n",
      "[0, 0, 0, 0, 0, 1, 0, 0, 0, 0, 0, 0, 0, 0, 0]\n",
      "[0, 0, 0, 0, 0, 0, 0, 0, 0, 0, 0, 0, 0, 1, 0]\n",
      "[1, 0, 1, 0, 1, 0, 0, 0, 0, 0, 0, 1, 0, 0, 0]\n",
      "[0, 0, 0, 0, 0, 1, 0, 1, 1, 0, 0, 0, 0, 1, 0]\n",
      "[1, 0, 0, 1, 0, 0, 0, 1, 1, 0, 1, 0, 0, 0, 0]\n",
      "[1, 0, 1, 0, 1, 1, 0, 1, 1, 1, 1, 1, 0, 1, 1]\n",
      "[0, 0, 0, 0, 0, 0, 0, 0, 0, 0, 0, 0, 0, 1, 0]\n",
      "[0, 0, 0, 0, 0, 0, 0, 1, 0, 0, 0, 0, 0, 0, 0]\n",
      "[0, 0, 0, 1, 0, 1, 0, 0, 1, 0, 0, 1, 0, 0, 1]\n",
      "[0, 1, 0, 0, 0, 0, 0, 0, 0, 0, 1, 1, 0, 0, 0]\n",
      "[0, 1, 1, 1, 0, 1, 1, 1, 0, 0, 1, 0, 0, 0, 1]\n"
     ]
    }
   ],
   "source": [
    "ls = [[0 for i in range(0, 15)] for i in range(0, 15)]\n",
    "for i in range(0, len(ls)):\n",
    "    elements_to_replace = random.sample(range(0, len(ls)), random.randint(0, len(ls)))\n",
    "    for element in elements_to_replace:\n",
    "        ls[i][element] = random.randint(0, 1)\n",
    "    \n",
    "for row in ls:\n",
    "    print(row)\n"
   ]
  },
  {
   "cell_type": "markdown",
   "metadata": {},
   "source": [
    "Create a function that makes a 15x15 grid (it can represented by be a list of 15 list of 15 elements) filled by 0s. Then, replace some 0s with 1s to make a random path from the top to the bottom of the grid. The function should prints at the end the grid like this:\n",
    "\n",
    "0 0 1 0 0 0 0 0 0 0 0 0 0 0 0\n",
    "\n",
    "0 0 1 0 0 0 0 0 0 0 0 0 0 0 0\n",
    "\n",
    "0 1 1 0 1 1 1 1 1 1 1 0 0 0 0\n",
    "\n",
    "0 1 0 0 1 0 0 0 0 0 1 1 1 0 0\n",
    "\n",
    "0 1 1 1 1 0 0 0 0 0 0 0 1 1 0\n",
    "\n",
    "0 0 0 0 0 0 0 0 0 0 0 0 0 1 0\n",
    "\n",
    "0 1 1 1 0 0 0 0 0 0 1 1 1 1 0\n",
    "\n",
    "0 1 0 1 1 0 0 0 0 0 1 0 0 0 0\n",
    "\n",
    "0 1 0 0 1 0 0 0 0 0 1 0 0 0 0\n",
    "\n",
    "0 1 0 0 1 1 1 1 1 1 1 0 0 0 0\n",
    "\n",
    "0 1 1 0 0 0 0 0 0 0 0 0 0 0 0\n",
    "\n",
    "0 0 1 1 1 1 1 0 0 0 0 0 0 0 0\n",
    "\n",
    "0 0 0 0 0 0 1 0 0 0 0 0 0 0 0\n",
    "\n",
    "1 1 1 1 1 1 1 0 0 0 0 0 0 0 0\n",
    "\n",
    "1 0 0 0 0 0 0 0 0 0 0 0 0 0 0"
   ]
  },
  {
   "cell_type": "code",
   "execution_count": null,
   "metadata": {
    "collapsed": true
   },
   "outputs": [],
   "source": []
  }
 ],
 "metadata": {
  "kernelspec": {
   "display_name": "Python 3",
   "language": "python",
   "name": "python3"
  },
  "language_info": {
   "codemirror_mode": {
    "name": "ipython",
    "version": 3
   },
   "file_extension": ".py",
   "mimetype": "text/x-python",
   "name": "python",
   "nbconvert_exporter": "python",
   "pygments_lexer": "ipython3",
   "version": "3.6.3"
  }
 },
 "nbformat": 4,
 "nbformat_minor": 4
}
