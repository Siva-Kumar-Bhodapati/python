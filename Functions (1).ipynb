{
 "cells": [
  {
   "cell_type": "code",
   "execution_count": 1,
   "metadata": {},
   "outputs": [
    {
     "data": {
      "text/plain": [
       "'This prints a string'"
      ]
     },
     "execution_count": 1,
     "metadata": {},
     "output_type": "execute_result"
    }
   ],
   "source": [
    "def printme(var):\n",
    "   \"This prints a string\"\n",
    "   print(var)\n",
    "   return\n",
    "printme.__doc__"
   ]
  },
  {
   "cell_type": "code",
   "execution_count": null,
   "metadata": {
    "collapsed": true
   },
   "outputs": [],
   "source": [
    "# Now you can call printme function\n",
    "printme(\"First call  to  user  function ! \")\n",
    "printme(\"Second call to the same function \")"
   ]
  },
  {
   "cell_type": "code",
   "execution_count": null,
   "metadata": {
    "collapsed": true
   },
   "outputs": [],
   "source": [
    "def printinfo(name, age):\n",
    "   \"This prints a passed info\"\n",
    "   print(\"Name: \", name)\n",
    "   print(\"Age \", age)\n",
    "   return\n",
    "\n",
    "printinfo(50,\"miki\")"
   ]
  },
  {
   "cell_type": "code",
   "execution_count": null,
   "metadata": {
    "collapsed": true
   },
   "outputs": [],
   "source": [
    "def printinfo(**kargs):\n",
    "    for k,v in kargs.items():\n",
    "        print(k,v)\n",
    "\n",
    "printinfo(a=70,b=60,c=50)\n",
    "\n",
    "my_dict = {'a': 70, 'b':60, 'c':50 }\n",
    "printinfo(**my_dict)"
   ]
  },
  {
   "cell_type": "code",
   "execution_count": null,
   "metadata": {
    "collapsed": true
   },
   "outputs": [],
   "source": [
    "def compute(arg1,arg2,comp=\"add\"):\n",
    "    if comp == \"add\":\n",
    "        print(arg1+arg2)\n",
    "    elif comp == \"mul\":\n",
    "        print(arg1*arg2)\n",
    "    else:\n",
    "        print(\"Unknown computation\")\n",
    "\n",
    "compute(3,4)\n",
    "compute(3,4,comp=\"add\")\n",
    "compute(3,4,comp=\"mul\")\n",
    "compute(3,4,comp=\"mull\")"
   ]
  },
  {
   "cell_type": "code",
   "execution_count": null,
   "metadata": {
    "collapsed": true
   },
   "outputs": [],
   "source": [
    "total = 0\n",
    "\n",
    "def sum_fct( arg1, arg2 ):\n",
    "   total = arg1 + arg2\n",
    "   print(\"Inside the function : \", total)\n",
    "   return total\n",
    "\n",
    "total = sum_fct( 10, 20 );\n",
    "print(\"Outside the function : \", total)"
   ]
  },
  {
   "cell_type": "markdown",
   "metadata": {},
   "source": [
    "# 2. Functions"
   ]
  },
  {
   "cell_type": "markdown",
   "metadata": {},
   "source": [
    "## Create new functions"
   ]
  },
  {
   "cell_type": "markdown",
   "metadata": {},
   "source": [
    "### The following cells with comments are describing a function. Code those functions under the comments. Each function has a test cell to verify how your function works.\n",
    "### And remember : Online documentation is your best friend ! You will need already existing functions to finish all exercices, like \"how to cast a float as an int\"."
   ]
  },
  {
   "cell_type": "code",
   "execution_count": 2,
   "metadata": {
    "collapsed": true
   },
   "outputs": [],
   "source": [
    "# Code a function \"hello\" with no arguments that prints \"Hello World !\"\n",
    "def hello():\n",
    "    print(\"Hello World !\")"
   ]
  },
  {
   "cell_type": "code",
   "execution_count": 3,
   "metadata": {},
   "outputs": [
    {
     "name": "stdout",
     "output_type": "stream",
     "text": [
      "Hello World !\n"
     ]
    }
   ],
   "source": [
    "hello()"
   ]
  },
  {
   "cell_type": "code",
   "execution_count": 4,
   "metadata": {
    "collapsed": true
   },
   "outputs": [],
   "source": [
    "# Code a function \"addition\" with two arguments that sums those arguments and returns value of the sum.\n",
    "def addition(a, b):\n",
    "    return a + b"
   ]
  },
  {
   "cell_type": "code",
   "execution_count": 5,
   "metadata": {},
   "outputs": [
    {
     "name": "stdout",
     "output_type": "stream",
     "text": [
      "True\n",
      "Hello World !\n"
     ]
    }
   ],
   "source": [
    "a = addition(2,3)\n",
    "b = addition(5,9)\n",
    "print(a+b == 19)\n",
    "c = addition(\"Hello \",\"World !\")\n",
    "print(c)"
   ]
  },
  {
   "cell_type": "code",
   "execution_count": 6,
   "metadata": {
    "collapsed": true
   },
   "outputs": [],
   "source": [
    "# Code a function \"multiplication\" with two arguments that multiply them and returns the result.\n",
    "def multiplication(a, b):\n",
    "    return a * b"
   ]
  },
  {
   "cell_type": "code",
   "execution_count": 7,
   "metadata": {},
   "outputs": [
    {
     "name": "stdout",
     "output_type": "stream",
     "text": [
      "True\n"
     ]
    }
   ],
   "source": [
    "d = multiplication(2,3)\n",
    "e = multiplication(2,2)\n",
    "print(multiplication(d,e) == 24)"
   ]
  },
  {
   "cell_type": "code",
   "execution_count": 53,
   "metadata": {
    "collapsed": true
   },
   "outputs": [],
   "source": [
    "# Code a function \"multi_addition1\" with n ints that sums all those ints and returns the value of the sum.\n",
    "import functools\n",
    "def multi_addition1(*args):\n",
    "#     return functools.reduce(lambda a, b: a + b, args)\n",
    "    sum_ = None\n",
    "    for i in args:\n",
    "        if sum_ is None and type(i) is int:\n",
    "            sum_ = 0\n",
    "        elif sum_ is None and type(i) is str:\n",
    "            sum_ = ''\n",
    "        sum_ += i\n",
    "    return sum_"
   ]
  },
  {
   "cell_type": "code",
   "execution_count": 54,
   "metadata": {},
   "outputs": [
    {
     "name": "stdout",
     "output_type": "stream",
     "text": [
      "6\n",
      "36\n"
     ]
    }
   ],
   "source": [
    "print(multi_addition1(1,2,3))\n",
    "print(multi_addition1(10,4,8,9,5))"
   ]
  },
  {
   "cell_type": "code",
   "execution_count": null,
   "metadata": {
    "collapsed": true
   },
   "outputs": [],
   "source": [
    "# Code a function \"multi_addition2\" with n arguments that sums all those arguments and returns the value of the sum"
   ]
  },
  {
   "cell_type": "code",
   "execution_count": 55,
   "metadata": {},
   "outputs": [
    {
     "name": "stdout",
     "output_type": "stream",
     "text": [
      "1\n",
      "159\n",
      "Hello World !\n"
     ]
    }
   ],
   "source": [
    "print(multi_addition1(1))\n",
    "print(multi_addition1(10,2,8,14,5,78,42))\n",
    "print(multi_addition1(\"He\",\"llo \",\"Wor\",\"ld\",\" !\"))"
   ]
  },
  {
   "cell_type": "code",
   "execution_count": 19,
   "metadata": {
    "collapsed": true
   },
   "outputs": [],
   "source": [
    "# Code a function \"reverse\" with one str as argument that reverse all the chars in this str and returns it.\n",
    "# For ex, \"EPITA\" will become \"ATIPE\"\n",
    "def reverse(st):\n",
    "    new_st = ''\n",
    "    i = len(st) - 1\n",
    "    while i >= 0:\n",
    "        new_st += st[i]\n",
    "        i -= 1\n",
    "    return new_st"
   ]
  },
  {
   "cell_type": "code",
   "execution_count": 20,
   "metadata": {},
   "outputs": [
    {
     "name": "stdout",
     "output_type": "stream",
     "text": [
      "ATIPE\n",
      "! dlroW olleH\n",
      "KayaK\n"
     ]
    }
   ],
   "source": [
    "print(reverse(\"EPITA\"))\n",
    "print(reverse(\"Hello World !\"))\n",
    "print(reverse(\"KayaK\"))"
   ]
  },
  {
   "cell_type": "code",
   "execution_count": 23,
   "metadata": {
    "collapsed": true
   },
   "outputs": [],
   "source": [
    "# Code a function \"neg_pos\" with one list as argument that places negative numbers at the beginning of the list \n",
    "# and positive numbers at the end of the list, keeping their orders.\n",
    "def neg_pos(ls):\n",
    "    new_ls = list()\n",
    "    for i in ls:\n",
    "        if i < 0:\n",
    "            new_ls.append(i)\n",
    "    for i in ls:\n",
    "        if i >= 0:\n",
    "            new_ls.append(i)\n",
    "    return new_ls\n",
    "            "
   ]
  },
  {
   "cell_type": "code",
   "execution_count": 24,
   "metadata": {},
   "outputs": [
    {
     "name": "stdout",
     "output_type": "stream",
     "text": [
      "[-3, -5, -8, -9, 1, 2, 4, 6, 7]\n",
      "[-7, -8, -2, 4, 2, 0, 14, 3]\n"
     ]
    }
   ],
   "source": [
    "print(neg_pos([1,2,-3,4,-5,6,7,-8,-9]))\n",
    "print(neg_pos([4,-7,2,0,-8,14,-2,3]))"
   ]
  },
  {
   "cell_type": "code",
   "execution_count": 25,
   "metadata": {
    "collapsed": true
   },
   "outputs": [],
   "source": [
    "# Code a function \"division\" with two int as arguments that returns quotient and prints the remainder. \n",
    "# If a division by zero is made, returns None and prints \"Error, division by zero\"\n",
    "# Careful ! Remainder and quotient should be ints, not floats.\n",
    "def division(a, b):\n",
    "    if b == 0:\n",
    "        print(\"Error, division by zero\")\n",
    "        return None\n",
    "    else:\n",
    "        print(\"remainder is {}\".format(a%b))\n",
    "        return a//b"
   ]
  },
  {
   "cell_type": "code",
   "execution_count": 26,
   "metadata": {},
   "outputs": [
    {
     "name": "stdout",
     "output_type": "stream",
     "text": [
      "remainder is 1\n",
      "3\n",
      "Error, division by zero\n",
      "None\n",
      "remainder is 0\n",
      "4\n",
      "remainder is 3\n",
      "2\n"
     ]
    }
   ],
   "source": [
    "print(division(10,3))\n",
    "print(division(12,0))\n",
    "print(division(20,5))\n",
    "print(division(15,6))"
   ]
  },
  {
   "cell_type": "code",
   "execution_count": 35,
   "metadata": {
    "collapsed": true
   },
   "outputs": [],
   "source": [
    "# Code a function \"median\" that returns the element at the median of a list given as argument.\n",
    "# If the length of the list is even (then median is not an int), then pick the element before the median.\n",
    "# For ex, median([1,24,6,54]) returns 24\n",
    "def median(ls):\n",
    "    return ls[len(ls) // 2 - 1] if len(ls) % 2 == 0 else ls[len(ls) // 2]"
   ]
  },
  {
   "cell_type": "code",
   "execution_count": 36,
   "metadata": {},
   "outputs": [
    {
     "name": "stdout",
     "output_type": "stream",
     "text": [
      "24\n",
      "3\n"
     ]
    }
   ],
   "source": [
    "print(median([1,24,6,54]))\n",
    "print(median([1,2,3,4,5]))"
   ]
  },
  {
   "cell_type": "code",
   "execution_count": 39,
   "metadata": {
    "collapsed": true
   },
   "outputs": [],
   "source": [
    "# Code a function \"mean\" that returns the mean value of all the elements of a list given as argument.\n",
    "# For ex, mean([1,24,6,54]) returns 21.25\n",
    "def mean(ls):\n",
    "    return functools.reduce(lambda a, b: a + b, ls) / len(ls)"
   ]
  },
  {
   "cell_type": "code",
   "execution_count": 40,
   "metadata": {},
   "outputs": [
    {
     "name": "stdout",
     "output_type": "stream",
     "text": [
      "21.25\n",
      "3.0\n"
     ]
    }
   ],
   "source": [
    "print(mean([1,24,6,54]))\n",
    "print(mean([1,2,3,4,5]))"
   ]
  },
  {
   "cell_type": "code",
   "execution_count": 44,
   "metadata": {},
   "outputs": [],
   "source": [
    "# Code a function \"mean_within\" that returns the closest element of a list given as argument to its mean value.\n",
    "# For ex, mean_within([1,24,6,54]) returns 24\n",
    "def mean_within(ls):\n",
    "    mean = functools.reduce(lambda a, b: a + b, ls) / len(ls)\n",
    "    closest = None\n",
    "    diff = None\n",
    "    for i in ls:\n",
    "        if diff is None or diff > abs(mean - i):\n",
    "            closest = i\n",
    "            diff = mean - i\n",
    "    return closest"
   ]
  },
  {
   "cell_type": "code",
   "execution_count": 45,
   "metadata": {},
   "outputs": [
    {
     "name": "stdout",
     "output_type": "stream",
     "text": [
      "24\n",
      "3\n",
      "2658\n",
      "-48\n"
     ]
    }
   ],
   "source": [
    "print(mean_within([1,24,6,54]))\n",
    "print(mean_within([1,2,3,4,5]))\n",
    "print(mean_within([54,14,98,65,1052,47895,458,12,357,410,2658,48]))\n",
    "print(mean_within([-48,-875,-7995,-1485,-79522,-478,-1365,-795,-799,-421,-486,-325]))"
   ]
  },
  {
   "cell_type": "code",
   "execution_count": 49,
   "metadata": {
    "collapsed": true
   },
   "outputs": [],
   "source": [
    "# Code an iterative function \"fact_it\" with one int as argument that returns the factorial of n.\n",
    "def fact_it(n):\n",
    "    if n > 1:\n",
    "        return functools.reduce(lambda a, b: a * b, list(range(2, n + 1)))\n",
    "    elif n == 1:\n",
    "        return 1\n",
    "    else:\n",
    "        return 'Invalid value'"
   ]
  },
  {
   "cell_type": "code",
   "execution_count": 50,
   "metadata": {},
   "outputs": [
    {
     "name": "stdout",
     "output_type": "stream",
     "text": [
      "1\n",
      "\n",
      "\n",
      "2\n",
      "\n",
      "\n",
      "120\n",
      "\n",
      "\n",
      "2432902008176640000\n",
      "\n",
      "\n",
      "93326215443944152681699238856266700490715968264381621468592963895217599993229915608941463976156518286253697920827223758251185210916864000000000000000000000000\n",
      "\n",
      "\n",
      "402387260077093773543702433923003985719374864210714632543799910429938512398629020592044208486969404800479988610197196058631666872994808558901323829669944590997424504087073759918823627727188732519779505950995276120874975462497043601418278094646496291056393887437886487337119181045825783647849977012476632889835955735432513185323958463075557409114262417474349347553428646576611667797396668820291207379143853719588249808126867838374559731746136085379534524221586593201928090878297308431392844403281231558611036976801357304216168747609675871348312025478589320767169132448426236131412508780208000261683151027341827977704784635868170164365024153691398281264810213092761244896359928705114964975419909342221566832572080821333186116811553615836546984046708975602900950537616475847728421889679646244945160765353408198901385442487984959953319101723355556602139450399736280750137837615307127761926849034352625200015888535147331611702103968175921510907788019393178114194545257223865541461062892187960223838971476088506276862967146674697562911234082439208160153780889893964518263243671616762179168909779911903754031274622289988005195444414282012187361745992642956581746628302955570299024324153181617210465832036786906117260158783520751516284225540265170483304226143974286933061690897968482590125458327168226458066526769958652682272807075781391858178889652208164348344825993266043367660176999612831860788386150279465955131156552036093988180612138558600301435694527224206344631797460594682573103790084024432438465657245014402821885252470935190620929023136493273497565513958720559654228749774011413346962715422845862377387538230483865688976461927383814900140767310446640259899490222221765904339901886018566526485061799702356193897017860040811889729918311021171229845901641921068884387121855646124960798722908519296819372388642614839657382291123125024186649353143970137428531926649875337218940694281434118520158014123344828015051399694290153483077644569099073152433278288269864602789864321139083506217095002597389863554277196742822248757586765752344220207573630569498825087968928162753848863396909959826280956121450994871701244516461260379029309120889086942028510640182154399457156805941872748998094254742173582401063677404595741785160829230135358081840096996372524230560855903700624271243416909004153690105933983835777939410970027753472000000000000000000000000000000000000000000000000000000000000000000000000000000000000000000000000000000000000000000000000000000000000000000000000000000000000000000000000000000000000000000000000000000000000000000000000000000000000000000000000000000000\n",
      "Wall time: 1.99 ms\n"
     ]
    }
   ],
   "source": [
    "%%time\n",
    "# %%time gives the execution time of the cell\n",
    "print(fact_it(1))\n",
    "print(\"\\n\")\n",
    "print(fact_it(2))\n",
    "print(\"\\n\")\n",
    "print(fact_it(5))\n",
    "print(\"\\n\")\n",
    "print(fact_it(20))\n",
    "print(\"\\n\")\n",
    "print(fact_it(100))\n",
    "print(\"\\n\")\n",
    "print(fact_it(1000))"
   ]
  },
  {
   "cell_type": "code",
   "execution_count": 56,
   "metadata": {
    "collapsed": true
   },
   "outputs": [],
   "source": [
    "# Code a recusive function \"fact_rec\" with one int as argument that returns the factorial of n.\n",
    "def fact_rec(n):\n",
    "    return n * fact_rec( n - 1) if n > 1 else n"
   ]
  },
  {
   "cell_type": "code",
   "execution_count": 57,
   "metadata": {
    "collapsed": true
   },
   "outputs": [],
   "source": [
    "## This will be needed to go above the limit of max recursions\n",
    "import sys\n",
    "sys.setrecursionlimit(2000)  "
   ]
  },
  {
   "cell_type": "code",
   "execution_count": 58,
   "metadata": {},
   "outputs": [
    {
     "name": "stdout",
     "output_type": "stream",
     "text": [
      "120\n",
      "\n",
      "\n",
      "2432902008176640000\n",
      "\n",
      "\n",
      "93326215443944152681699238856266700490715968264381621468592963895217599993229915608941463976156518286253697920827223758251185210916864000000000000000000000000\n",
      "\n",
      "\n",
      "402387260077093773543702433923003985719374864210714632543799910429938512398629020592044208486969404800479988610197196058631666872994808558901323829669944590997424504087073759918823627727188732519779505950995276120874975462497043601418278094646496291056393887437886487337119181045825783647849977012476632889835955735432513185323958463075557409114262417474349347553428646576611667797396668820291207379143853719588249808126867838374559731746136085379534524221586593201928090878297308431392844403281231558611036976801357304216168747609675871348312025478589320767169132448426236131412508780208000261683151027341827977704784635868170164365024153691398281264810213092761244896359928705114964975419909342221566832572080821333186116811553615836546984046708975602900950537616475847728421889679646244945160765353408198901385442487984959953319101723355556602139450399736280750137837615307127761926849034352625200015888535147331611702103968175921510907788019393178114194545257223865541461062892187960223838971476088506276862967146674697562911234082439208160153780889893964518263243671616762179168909779911903754031274622289988005195444414282012187361745992642956581746628302955570299024324153181617210465832036786906117260158783520751516284225540265170483304226143974286933061690897968482590125458327168226458066526769958652682272807075781391858178889652208164348344825993266043367660176999612831860788386150279465955131156552036093988180612138558600301435694527224206344631797460594682573103790084024432438465657245014402821885252470935190620929023136493273497565513958720559654228749774011413346962715422845862377387538230483865688976461927383814900140767310446640259899490222221765904339901886018566526485061799702356193897017860040811889729918311021171229845901641921068884387121855646124960798722908519296819372388642614839657382291123125024186649353143970137428531926649875337218940694281434118520158014123344828015051399694290153483077644569099073152433278288269864602789864321139083506217095002597389863554277196742822248757586765752344220207573630569498825087968928162753848863396909959826280956121450994871701244516461260379029309120889086942028510640182154399457156805941872748998094254742173582401063677404595741785160829230135358081840096996372524230560855903700624271243416909004153690105933983835777939410970027753472000000000000000000000000000000000000000000000000000000000000000000000000000000000000000000000000000000000000000000000000000000000000000000000000000000000000000000000000000000000000000000000000000000000000000000000000000000000000000000000000000000000\n",
      "Wall time: 2.99 ms\n"
     ]
    }
   ],
   "source": [
    "%%time\n",
    "\n",
    "print(fact_rec(5))\n",
    "print(\"\\n\")\n",
    "print(fact_rec(20))\n",
    "print(\"\\n\")\n",
    "print(fact_rec(100))\n",
    "print(\"\\n\")\n",
    "print(fact_rec(1000))"
   ]
  },
  {
   "cell_type": "code",
   "execution_count": 63,
   "metadata": {
    "collapsed": true
   },
   "outputs": [],
   "source": [
    "# Code a function \"removal\" with two str as arguments that remove in the first str every char in the second str.\n",
    "# and returns the modified str.\n",
    "# For ex, removal(\"abcd\",\"ad\") returns \"bc\"\n",
    "def removal(st1, st2):\n",
    "    ls_st1 = list(st1)\n",
    "    for i in st2:\n",
    "        if i in ls_st1:\n",
    "            ls_st1.remove(i)\n",
    "    return ''.join(ls_st1)"
   ]
  },
  {
   "cell_type": "code",
   "execution_count": 64,
   "metadata": {},
   "outputs": [
    {
     "name": "stdout",
     "output_type": "stream",
     "text": [
      "Helalb0 W10hqYaAMrzoMlOBhdvLyZ !\n",
      "TZh3IzezsoA I65zsA in0jt 3t51ehAeat6 gec0x2Nmz9op5ZilxIoijfic16aDZ3t5D5Eo592UPu1AU1Oqbi2FOAigKzv91q77zeuiHOjZuN7ju4OA8473oiNuNiozwr7KU9jfkw91CuAuoQd75Qr5e\n"
     ]
    }
   ],
   "source": [
    "print(removal(\"4OvzHabehLAolq3alby0Y WBf11Mk0hZwqYaA5MrzoMlOBhd8vLyZ !\",\"ay8OzMAf4qw1vLBk3hbR5toZY\"))\n",
    "b = \"3vZTeZbh3qO5WzNiIAfzoezs6oH4AU j2I65zsA in01jxtg9 3t51JKehAkQeDVat6ur gCec0x2Nmz9Rop5ZilxIoijfic16waDZ3t5D5E8Po592UPu1AFU1Oqbi2FOAi7gKzv91q77zeuiHOjZuN7ju4OA8473oiNuNiLozwr7KUB9jfkw91CuAuoQd75Qr5e\"\n",
    "c = \"HCyURP6wzJ4Mru2F5kxY1ZKve7LGgX3ONiBjDf9VqSbAW8oQ\"\n",
    "print(removal(b,c))"
   ]
  },
  {
   "cell_type": "code",
   "execution_count": 95,
   "metadata": {
    "collapsed": true
   },
   "outputs": [],
   "source": [
    "# Code a function \"fib\" with one int as argument that returns the value of the n-th number of Fibonacci.\n",
    "# Fibonacci(n) = Fibonacci(n-1)+Fibonacci(n-2)\n",
    "def fib(n):\n",
    "    curr_2 = 0\n",
    "    curr_1 = 1\n",
    "    curr = 0\n",
    "    if n == 0:\n",
    "        return 0\n",
    "    elif n == 1:\n",
    "        return 1\n",
    "    elif n > 1:\n",
    "        for i in range(2, n + 1):\n",
    "            curr = curr_1 + curr_2\n",
    "            curr_2 = curr_1\n",
    "            curr_1 = curr\n",
    "        return curr\n",
    "    else:\n",
    "        return 'Invalid Input'\n",
    "    \n",
    "    "
   ]
  },
  {
   "cell_type": "code",
   "execution_count": 96,
   "metadata": {},
   "outputs": [
    {
     "name": "stdout",
     "output_type": "stream",
     "text": [
      "Fibonacci(1) = 1\n",
      "\n",
      "\n",
      "Fibonacci(2) = 1\n",
      "\n",
      "\n",
      "Fibonacci(5) = 5\n",
      "\n",
      "\n",
      "Fibonacci(10) = 55\n",
      "\n",
      "\n",
      "Fibonacci(50) = 12586269025\n",
      "\n",
      "\n",
      "Fibonacci(100) = 354224848179261915075\n",
      "\n",
      "\n",
      "Fibonacci(245) = 712011255569818855923257924200496343807632829750245\n",
      "\n",
      "\n",
      "Fibonacci(385) = 129049549878268233256883381302815012467835672190109552534355121389997818506160385\n",
      "\n",
      "\n",
      "Fibonacci(576) = 1065113236465588309403889415460645093083860991848425732542338227915288346612042420944981983005010603735148681490199640832\n",
      "\n",
      "\n",
      "Fibonacci(3029) = 472147087487464165226455843699448907978605139746233242178192164943527354980649872464976864737203428151833488693374767476822021588194969202104017019614053022797877588802735155744054229971804392159026638263596881515946371872544087415171621249023611848513859589157362451049350614379125793859255665334654239319810321672085183847324674576996957228015257700027019166776435368872930863963093120782694815900237252160027003415707285674257629638594787905942363327902131964510039332088279116587252748540172141364419307917559792483141014531278672477944357989355500167097107073698612541498192314958116251972306534405564264947640403912854110712229\n",
      "Wall time: 1.98 ms\n"
     ]
    }
   ],
   "source": [
    "%%time\n",
    "print(\"Fibonacci(1) = %s\" %fib(1))\n",
    "print(\"\\n\")\n",
    "print(\"Fibonacci(2) = %s\" %fib(2))\n",
    "print(\"\\n\")\n",
    "print(\"Fibonacci(5) = %s\" %fib(5))\n",
    "print(\"\\n\")\n",
    "print(\"Fibonacci(10) = %s\" %fib(10))\n",
    "print(\"\\n\")\n",
    "print(\"Fibonacci(50) = %s\" %fib(50))\n",
    "print(\"\\n\")\n",
    "print(\"Fibonacci(100) = %s\" %fib(100))\n",
    "print(\"\\n\")\n",
    "print(\"Fibonacci(245) = %s\" %fib(245))\n",
    "print(\"\\n\")\n",
    "print(\"Fibonacci(385) = %s\" %fib(385))\n",
    "print(\"\\n\")\n",
    "print(\"Fibonacci(576) = %s\" %fib(576))\n",
    "print(\"\\n\")\n",
    "print(\"Fibonacci(3029) = %s\" %fib(3029))\n",
    "440047156314635932379335110006072428645041207574883\n",
    "12586269025\n",
    "354224848179261915075"
   ]
  },
  {
   "cell_type": "code",
   "execution_count": null,
   "metadata": {
    "collapsed": true
   },
   "outputs": [],
   "source": [
    "# Code a function \"rand\" with one argument that returns a random element of that argument.\n",
    "# Importing the library \"random\" could be useful"
   ]
  },
  {
   "cell_type": "code",
   "execution_count": 74,
   "metadata": {},
   "outputs": [
    {
     "name": "stdout",
     "output_type": "stream",
     "text": [
      "e\n",
      "31\n"
     ]
    }
   ],
   "source": [
    "import random\n",
    "def rand(st):\n",
    "    return st[random.randint(0, len(st))]\n",
    "print(rand('abcdefghijklmnop'))\n",
    "print(rand([158,1486,864,31,48,43654,6,84,1,3358,48946,478,9512]))"
   ]
  },
  {
   "cell_type": "code",
   "execution_count": 77,
   "metadata": {
    "collapsed": true
   },
   "outputs": [],
   "source": [
    "# Code a function with a list and a value V as arguments that displays the index of the second value V in the list.\n",
    "# For example, with [13 , 15 , 12 , 17 , 15 , 18 , 15 , 17 ] and V = 15, the function returns 4. \n",
    "# If V is not included twice in the list, the program displays -1. \n",
    "def ret_two(ls, i):\n",
    "    count = 0\n",
    "    index = None\n",
    "    for j in ls:\n",
    "        if index is None:\n",
    "            index = 0\n",
    "        else:\n",
    "            index += 1\n",
    "        if i == j:\n",
    "            count += 1\n",
    "            if count == 2:\n",
    "                break\n",
    "    else:\n",
    "        return -1\n",
    "    return index\n",
    "    \n",
    "    \n",
    "    "
   ]
  },
  {
   "cell_type": "code",
   "execution_count": 78,
   "metadata": {},
   "outputs": [
    {
     "name": "stdout",
     "output_type": "stream",
     "text": [
      "-1\n",
      "4\n",
      "-1\n"
     ]
    }
   ],
   "source": [
    "print(ret_two([1,2,3,4,5],1))\n",
    "print(ret_two([1,2,3,4,1,5,6,7],1))\n",
    "print(ret_two([1,11,2,3,4,5],1))"
   ]
  },
  {
   "cell_type": "code",
   "execution_count": 85,
   "metadata": {
    "collapsed": true
   },
   "outputs": [],
   "source": [
    "# Write a function \"stars\" with a list as argument that prints the cumulative numbers of the different elements \n",
    "# of the list in the form of sticks made up of stars. \n",
    "# For example, with [13 , 15 , 12 , 17 , 15 , 18 , 15 , 15 , 17 , 13 , 12 , 15 ] , the program displays :\n",
    "# **12\n",
    "# **13\n",
    "# **15\n",
    "# **17\n",
    "# *18\n",
    "def stars(ls):\n",
    "    sorted_list = list()\n",
    "    for j in range(len(ls)):\n",
    "        least = None\n",
    "        for i in ls:\n",
    "            if (least is None or i < least) and i not in sorted_list:\n",
    "                least = i\n",
    "        if least is not None:\n",
    "            sorted_list.append(least)\n",
    "    print(sorted_list)\n",
    "    for i in sorted_list:\n",
    "        for j in ls:\n",
    "            if i == j:\n",
    "                print('*', end='')\n",
    "        print(i)\n"
   ]
  },
  {
   "cell_type": "code",
   "execution_count": 86,
   "metadata": {},
   "outputs": [
    {
     "name": "stdout",
     "output_type": "stream",
     "text": [
      "[1, 2, 3, 4]\n",
      "**1\n",
      "**2\n",
      "*3\n",
      "**4\n",
      "\n",
      "\n",
      "[1, 2, 3, 4]\n",
      "************1\n",
      "******2\n",
      "****3\n",
      "*4\n"
     ]
    }
   ],
   "source": [
    "stars([1,1,2,4,3,2,4])\n",
    "print(\"\\n\")\n",
    "stars([1,1,1,1,1,1,1,1,2,1,3,2,3,2,2,1,2,3,4,3,2,1,1])"
   ]
  },
  {
   "cell_type": "code",
   "execution_count": 75,
   "metadata": {
    "collapsed": true
   },
   "outputs": [],
   "source": [
    "# Write a function \"inter\" with two lists as arguments that returns the elements present in the two lists.\n",
    "def inter(ls1, ls2):\n",
    "    inter_ls = list()\n",
    "    for i in ls1:\n",
    "        if i in ls2:\n",
    "            inter_ls.append(i)\n",
    "    return inter_ls"
   ]
  },
  {
   "cell_type": "code",
   "execution_count": 76,
   "metadata": {},
   "outputs": [
    {
     "name": "stdout",
     "output_type": "stream",
     "text": [
      "[5, 6]\n",
      "[2, 9, 10, 35, 23, 59]\n"
     ]
    }
   ],
   "source": [
    "print(inter([1,2,3,4,5,6],[5,6,7,8,9]))\n",
    "print(inter([1,2,7,9,10,35,48,12,23,59,44],[45,2,78,23,56,10,9,84,59,36,35,23]))"
   ]
  },
  {
   "cell_type": "code",
   "execution_count": null,
   "metadata": {
    "collapsed": true
   },
   "outputs": [],
   "source": []
  }
 ],
 "metadata": {
  "kernelspec": {
   "display_name": "Python 3",
   "language": "python",
   "name": "python3"
  },
  "language_info": {
   "codemirror_mode": {
    "name": "ipython",
    "version": 3
   },
   "file_extension": ".py",
   "mimetype": "text/x-python",
   "name": "python",
   "nbconvert_exporter": "python",
   "pygments_lexer": "ipython3",
   "version": "3.6.3"
  }
 },
 "nbformat": 4,
 "nbformat_minor": 2
}
