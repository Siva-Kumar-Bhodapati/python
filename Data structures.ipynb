{
 "cells": [
  {
   "cell_type": "code",
   "execution_count": 3,
   "metadata": {},
   "outputs": [
    {
     "name": "stdout",
     "output_type": "stream",
     "text": [
      "['abcd', 786, 2.23, 'john', 70.2]\n",
      "abcd\n",
      "['john', 70.2]\n",
      "[2.23, 'john', 70.2]\n",
      "[123, 'john', 123, 'john']\n",
      "['abcd', 786, 2.23, 'john', 70.2, 123, 'john']\n"
     ]
    }
   ],
   "source": [
    "list1 = [ 'abcd', 786 , 2.23, 'john', 70.2 ]\n",
    "tinylist = [123, 'john']\n",
    "\n",
    "print (list1)\n",
    "print(list1[0])\n",
    "print(list1[3:5])\n",
    "print(list1[2:])\n",
    "print(tinylist * 2)\n",
    "print(list1 + tinylist)"
   ]
  },
  {
   "cell_type": "code",
   "execution_count": null,
   "metadata": {
    "collapsed": true
   },
   "outputs": [],
   "source": [
    "a = []\n",
    "a.append( 4 )\n",
    "a.append( 1 )\n",
    "print(a)\n",
    "a.append('hello')\n",
    "print(a)"
   ]
  },
  {
   "cell_type": "code",
   "execution_count": null,
   "metadata": {
    "collapsed": true
   },
   "outputs": [],
   "source": [
    "b = [3, 1]\n",
    "#Add a list to list\n",
    "a.extend(b)\n",
    "print(a)\n",
    "#Reverse list in place\n",
    "a.reverse()\n",
    "print(a)\n",
    "#Remove first item found\n",
    "a.remove(1)\n",
    "print(a)\n",
    "#Remove/return item at end of list\n",
    "a.pop()\n",
    "print(a)\n",
    "#size\n",
    "len(a)"
   ]
  },
  {
   "cell_type": "code",
   "execution_count": null,
   "metadata": {
    "collapsed": true
   },
   "outputs": [],
   "source": [
    "list1 = [1, 2, 3, 3]\n",
    "s = set(list1)\n",
    "print(s)"
   ]
  },
  {
   "cell_type": "code",
   "execution_count": null,
   "metadata": {
    "collapsed": true
   },
   "outputs": [],
   "source": [
    "my_set = {1,3}\n",
    "my_set.add(2)\n",
    "print(my_set)\n",
    "my_set.update([2,3,4])\n",
    "print(my_set)\n",
    "my_set.update([4,5], {1,6,8})\n",
    "print(my_set)"
   ]
  },
  {
   "cell_type": "code",
   "execution_count": null,
   "metadata": {
    "collapsed": true
   },
   "outputs": [],
   "source": [
    "my_set = {1, 3, 4, 5, 6}\n",
    "my_set.discard(4)\n",
    "print(my_set)\n",
    "my_set.remove(6)\n",
    "print(my_set)"
   ]
  },
  {
   "cell_type": "code",
   "execution_count": null,
   "metadata": {
    "collapsed": true
   },
   "outputs": [],
   "source": [
    "set1 = set([1, 2, 3])\n",
    "set2 = set([3, 4, 5])\n",
    "s1 = set1 | set2 #union\n",
    "print(s1)\n",
    "s2 = set1 & set2 #intersection\n",
    "print(s2)\n",
    "s3 = set1 -  set2 #difference 1\n",
    "print(s3)\n",
    "s4 = set2 -  set1 #difference 2\n",
    "print(s4)\n",
    "s5 = set1 ^ set2 #symmetric difference\n",
    "print(s5)"
   ]
  },
  {
   "cell_type": "code",
   "execution_count": null,
   "metadata": {
    "collapsed": true
   },
   "outputs": [],
   "source": [
    "dict1 = {}\n",
    "dict1['Carolina'] = 41\n",
    "dict1['Roberto'] = 56\n",
    "\n",
    "tinydict = {'name': 'john','code': 6734, 'dept': 'sales'}\n",
    "print(dict1['Carolina'])\n",
    "print(tinydict)\n",
    "print(tinydict.keys())\n",
    "print(tinydict.values())"
   ]
  },
  {
   "cell_type": "code",
   "execution_count": null,
   "metadata": {
    "collapsed": true
   },
   "outputs": [],
   "source": [
    "dict1 = {'Name': 'Zara', 'Age': 7}\n",
    "# remove entry with key 'Name'\n",
    "del dict1['Name'];\n",
    "print(dict1)\n",
    "# remove all entries in dict\n",
    "dict1.clear()\n",
    "print(dict1)\n",
    "# delete entire dictionary\n",
    "del dict1\n",
    "print(dict1)"
   ]
  },
  {
   "cell_type": "code",
   "execution_count": null,
   "metadata": {
    "collapsed": true
   },
   "outputs": [],
   "source": [
    "dict1 = {'Name': 'Zara', 'Age': 7}\n",
    "# update existing entry\n",
    "print(dict1)\n",
    "dict1['Age'] = 8\n",
    "print(dict1)\n",
    "# Add new entry\n",
    "dict1['School'] = \"DPS School\"\n",
    "print(dict1)"
   ]
  },
  {
   "cell_type": "markdown",
   "metadata": {},
   "source": [
    "## Exercices with lists"
   ]
  },
  {
   "cell_type": "markdown",
   "metadata": {},
   "source": [
    "### Create a list with every letter of the alphabet"
   ]
  },
  {
   "cell_type": "code",
   "execution_count": 8,
   "metadata": {},
   "outputs": [
    {
     "name": "stdout",
     "output_type": "stream",
     "text": [
      "['a', 'b', 'c', 'd', 'e', 'f', 'g', 'h', 'i', 'j', 'k', 'l', 'm', 'n', 'o', 'p', 'q', 'r', 's', 't', 'u', 'v', 'w', 'x', 'y', 'z']\n"
     ]
    }
   ],
   "source": [
    "import string\n",
    "alpha = list(string.ascii_lowercase)\n",
    "print(alpha)"
   ]
  },
  {
   "cell_type": "markdown",
   "metadata": {},
   "source": [
    "### Create a list with every number from 0 to 10"
   ]
  },
  {
   "cell_type": "code",
   "execution_count": 11,
   "metadata": {},
   "outputs": [
    {
     "name": "stdout",
     "output_type": "stream",
     "text": [
      "[0, 1, 2, 3, 4, 5, 6, 7, 8, 9, 10]\n"
     ]
    }
   ],
   "source": [
    "nums = list(range(0,11))\n",
    "print(nums)"
   ]
  },
  {
   "cell_type": "markdown",
   "metadata": {},
   "source": [
    "### Create a list with every number from 1 to 100"
   ]
  },
  {
   "cell_type": "code",
   "execution_count": 12,
   "metadata": {},
   "outputs": [
    {
     "name": "stdout",
     "output_type": "stream",
     "text": [
      "[1, 2, 3, 4, 5, 6, 7, 8, 9, 10, 11, 12, 13, 14, 15, 16, 17, 18, 19, 20, 21, 22, 23, 24, 25, 26, 27, 28, 29, 30, 31, 32, 33, 34, 35, 36, 37, 38, 39, 40, 41, 42, 43, 44, 45, 46, 47, 48, 49, 50, 51, 52, 53, 54, 55, 56, 57, 58, 59, 60, 61, 62, 63, 64, 65, 66, 67, 68, 69, 70, 71, 72, 73, 74, 75, 76, 77, 78, 79, 80, 81, 82, 83, 84, 85, 86, 87, 88, 89, 90, 91, 92, 93, 94, 95, 96, 97, 98, 99, 100]\n"
     ]
    }
   ],
   "source": [
    "nums = list(range(1,101))\n",
    "print(nums)"
   ]
  },
  {
   "cell_type": "markdown",
   "metadata": {},
   "source": [
    "### Create a variable with the 50 first elements of the previous list."
   ]
  },
  {
   "cell_type": "code",
   "execution_count": 13,
   "metadata": {},
   "outputs": [
    {
     "name": "stdout",
     "output_type": "stream",
     "text": [
      "[1, 2, 3, 4, 5, 6, 7, 8, 9, 10, 11, 12, 13, 14, 15, 16, 17, 18, 19, 20, 21, 22, 23, 24, 25, 26, 27, 28, 29, 30, 31, 32, 33, 34, 35, 36, 37, 38, 39, 40, 41, 42, 43, 44, 45, 46, 47, 48, 49, 50]\n"
     ]
    }
   ],
   "source": [
    "nums50 = nums[0:50]\n",
    "print(nums50)"
   ]
  },
  {
   "cell_type": "markdown",
   "metadata": {},
   "source": [
    "### Create a variable with the 50 last elements of the previous list."
   ]
  },
  {
   "cell_type": "code",
   "execution_count": 19,
   "metadata": {},
   "outputs": [
    {
     "name": "stdout",
     "output_type": "stream",
     "text": [
      "[51, 52, 53, 54, 55, 56, 57, 58, 59, 60, 61, 62, 63, 64, 65, 66, 67, 68, 69, 70, 71, 72, 73, 74, 75, 76, 77, 78, 79, 80, 81, 82, 83, 84, 85, 86, 87, 88, 89, 90, 91, 92, 93, 94, 95, 96, 97, 98, 99, 100]\n"
     ]
    }
   ],
   "source": [
    "numslast50 = nums[50:]\n",
    "print(numslast50)"
   ]
  },
  {
   "cell_type": "markdown",
   "metadata": {},
   "source": [
    "### Create a3, the concatenatation of a1 with a2."
   ]
  },
  {
   "cell_type": "code",
   "execution_count": 21,
   "metadata": {},
   "outputs": [
    {
     "name": "stdout",
     "output_type": "stream",
     "text": [
      "['a', 'e', 'i', 'o', 'u', 'a', 'b', 'c', 'd', 'e']\n"
     ]
    }
   ],
   "source": [
    "a1 = [\"a\",\"e\",\"i\",\"o\",\"u\"]\n",
    "a2 = [\"a\",\"b\",\"c\",\"d\",\"e\"]\n",
    "a3 = a1+a2\n",
    "print(a3)"
   ]
  },
  {
   "cell_type": "markdown",
   "metadata": {},
   "source": [
    "### Remove the multiple elements in a3."
   ]
  },
  {
   "cell_type": "code",
   "execution_count": 22,
   "metadata": {},
   "outputs": [
    {
     "name": "stdout",
     "output_type": "stream",
     "text": [
      "{'o', 'u', 'd', 'a', 'b', 'c', 'e', 'i'}\n"
     ]
    }
   ],
   "source": [
    "print(set(a3))"
   ]
  },
  {
   "cell_type": "markdown",
   "metadata": {},
   "source": [
    "### Remove the multiple elements in a4."
   ]
  },
  {
   "cell_type": "code",
   "execution_count": 24,
   "metadata": {},
   "outputs": [
    {
     "name": "stdout",
     "output_type": "stream",
     "text": [
      "{'d', 'x', 'g', 'b', 'c', 'r', 'u', 'y', 'j', 'f', 'l', 'z', 'e', 'q', 'a', 'm', 'i', 'w', 'o', 's', 'h', 't', 'v', 'n', 'k', 'p'}\n"
     ]
    }
   ],
   "source": [
    "import random\n",
    "import string\n",
    "\n",
    "random.seed(42)\n",
    "\n",
    "a4 = []\n",
    "for i in range(1000):\n",
    "    a4+= [random.choice(string.ascii_letters).lower()]\n",
    "    \n",
    "print(set(a4))"
   ]
  },
  {
   "cell_type": "markdown",
   "metadata": {},
   "source": [
    "### Create a7 that contains the elements presents in a5 and a6."
   ]
  },
  {
   "cell_type": "code",
   "execution_count": 27,
   "metadata": {},
   "outputs": [
    {
     "name": "stdout",
     "output_type": "stream",
     "text": [
      "[1, 2, 3, 4, 7, 9, 13, 15, 16, 18, 21, 26, 27, 28, 30, 31, 33, 35, 37, 40, 41, 43, 47, 49, 52, 53, 54, 55, 56, 58, 59, 60, 61, 63, 65, 66, 71, 72, 73, 74, 75, 76, 77, 78, 80, 83, 86, 87, 88, 90, 94, 95, 100, 101, 103, 105, 109, 110, 111, 112, 113, 115, 118, 119, 121, 123, 124, 125, 128, 129, 130, 131, 135, 136, 137, 138, 140, 141, 142, 144, 148, 149, 152, 153, 156, 157, 159, 160, 161, 162, 164, 166, 167, 169, 170, 171, 172, 174, 178, 180, 181, 182, 183, 184, 185, 187, 188, 189, 190, 191, 194, 195, 196, 197, 198, 199, 204, 205, 206, 209, 210, 212, 213, 217, 218, 219, 220, 222, 223, 224, 225, 226, 227, 229, 231, 232, 233, 234, 235, 236, 237, 238, 240, 241, 242, 243, 244, 245, 247, 248, 250, 251, 252, 253, 254, 255, 257, 258, 261, 265, 266, 267, 270, 271, 272, 274, 275, 277, 278, 279, 280, 281, 282, 283, 284, 285, 286, 287, 293, 294, 295, 296, 297, 299, 301, 302, 303, 304, 305, 307, 308, 309, 310, 312, 313, 315, 317, 319, 320, 322, 323, 324, 326, 328, 330, 331, 332, 333, 335, 336, 337, 338, 339, 340, 342, 344, 345, 346, 347, 349, 353, 354, 357, 359, 360, 361, 363, 364, 367, 368, 371, 372, 373, 374, 375, 378, 379, 380, 383, 388, 389, 390, 391, 392, 393, 394, 395, 398, 400, 406, 407, 408, 409, 410, 411, 413, 414, 415, 417, 418, 419, 421, 422, 423, 426, 427, 430, 431, 432, 433, 434, 435, 436, 439, 441, 442, 443, 444, 445, 447, 449, 452, 453, 456, 459, 462, 465, 466, 467, 468, 470, 471, 473, 474, 476, 477, 479, 480, 481, 482, 484, 485, 487, 488, 490, 496, 497, 498, 500, 501, 502, 503, 504, 506, 507, 510, 511, 513, 514, 515, 517, 518, 520, 522, 524, 527, 528, 530, 531, 532, 534, 535, 536, 541, 544, 546, 547, 549, 550, 551, 552, 554, 555, 556, 557, 558, 559, 560, 562, 564, 566, 567, 569, 570, 571, 572, 574, 575, 577, 578, 579, 580, 583, 584, 585, 588, 590, 591, 592, 594, 598, 599, 600, 602, 603, 604, 607, 609, 610, 611, 612, 614, 615, 618, 619, 620, 622, 625, 626, 627, 628, 631, 633, 634, 635, 636, 638, 639, 641, 642, 643, 645, 646, 647, 649, 650, 651, 653, 654, 655, 656, 661, 662, 664, 666, 667, 668, 670, 671, 672, 676, 677, 678, 679, 680, 681, 683, 685, 686, 687, 688, 689, 690, 691, 692, 693, 694, 696, 697, 698, 699, 700, 701, 702, 703, 704, 705, 706, 707, 708, 711, 713, 714, 715, 717, 719, 720, 721, 722, 723, 724, 726, 727, 729, 731, 733, 734, 735, 736, 737, 738, 740, 742, 744, 745, 746, 747, 748, 749, 753, 755, 758, 760, 762, 764, 765, 766, 767, 768, 769, 770, 772, 773, 774, 779, 781, 782, 784, 785, 786, 787, 788, 790, 792, 794, 795, 797, 798, 800, 801, 802, 804, 806, 807, 808, 810, 812, 816, 819, 820, 822, 824, 826, 827, 828, 829, 834, 837, 839, 841, 842, 843, 844, 846, 847, 850, 851, 852, 853, 854, 855, 857, 858, 862, 864, 866, 867, 868, 869, 870, 871, 874, 875, 876, 877, 878, 879, 881, 882, 883, 886, 888, 890, 891, 892, 893, 894, 896, 898, 900, 901, 902, 903, 906, 907, 908, 909, 912, 913, 914, 915, 919, 920, 921, 923, 925, 927, 928, 929, 931, 932, 933, 935, 936, 937, 938, 940, 941, 942, 945, 947, 948, 949, 952, 956, 957, 958, 962, 963, 964, 966, 967, 968, 969, 970, 971, 972, 973, 974, 975, 977, 978, 981, 982, 984, 985, 986, 988, 989, 991, 992, 993, 994, 995, 996, 997, 998, 1, 3, 6, 8, 10, 11, 12, 13, 16, 20, 21, 22, 23, 25, 26, 27, 28, 29, 30, 32, 33, 34, 37, 38, 39, 41, 42, 45, 46, 47, 48, 51, 52, 53, 56, 58, 59, 60, 61, 62, 63, 64, 66, 67, 68, 70, 71, 72, 73, 75, 78, 81, 82, 83, 84, 88, 89, 91, 93, 96, 97, 100, 101, 102, 103, 104, 105, 106, 107, 108, 109, 110, 111, 112, 115, 117, 118, 119, 120, 122, 125, 126, 127, 128, 130, 131, 132, 134, 135, 136, 139, 142, 143, 145, 146, 147, 150, 151, 152, 153, 155, 156, 157, 158, 159, 160, 161, 162, 163, 164, 165, 168, 169, 175, 176, 179, 180, 181, 183, 186, 187, 193, 195, 197, 198, 200, 202, 203, 204, 206, 209, 211, 215, 216, 217, 218, 220, 221, 223, 225, 227, 228, 230, 231, 232, 233, 234, 235, 237, 239, 240, 241, 243, 245, 246, 247, 249, 250, 251, 254, 255, 256, 258, 259, 261, 262, 263, 264, 268, 269, 270, 271, 272, 273, 274, 275, 276, 277, 279, 280, 282, 283, 284, 285, 286, 289, 290, 291, 292, 294, 296, 299, 300, 301, 303, 304, 306, 307, 309, 310, 312, 313, 314, 316, 317, 318, 319, 320, 322, 324, 325, 329, 330, 332, 333, 335, 336, 337, 339, 340, 341, 342, 344, 347, 348, 349, 350, 352, 353, 354, 356, 358, 361, 363, 368, 370, 371, 374, 377, 378, 380, 381, 383, 384, 385, 387, 389, 390, 391, 393, 394, 395, 396, 399, 400, 404, 405, 407, 408, 410, 411, 413, 414, 416, 417, 418, 419, 420, 421, 422, 424, 425, 426, 430, 433, 434, 436, 437, 438, 439, 440, 442, 445, 446, 447, 449, 450, 451, 452, 453, 454, 455, 457, 458, 460, 461, 462, 463, 465, 466, 468, 469, 471, 472, 473, 476, 477, 478, 480, 481, 482, 483, 485, 487, 489, 491, 493, 494, 495, 496, 497, 498, 499, 500, 501, 502, 503, 504, 505, 506, 507, 508, 509, 512, 513, 515, 518, 519, 520, 521, 524, 527, 531, 533, 536, 538, 539, 542, 544, 550, 551, 552, 553, 554, 556, 557, 559, 563, 564, 565, 566, 568, 571, 573, 575, 578, 579, 580, 581, 583, 584, 586, 589, 590, 591, 593, 594, 595, 596, 597, 598, 601, 602, 603, 604, 605, 607, 610, 611, 612, 613, 617, 619, 621, 622, 624, 625, 635, 636, 637, 638, 639, 641, 644, 645, 647, 649, 650, 651, 652, 654, 655, 657, 658, 659, 661, 662, 664, 665, 666, 668, 670, 671, 672, 674, 675, 676, 678, 679, 680, 681, 683, 684, 685, 686, 687, 688, 689, 691, 692, 694, 695, 697, 699, 701, 703, 704, 705, 706, 707, 708, 709, 710, 711, 714, 715, 716, 717, 718, 719, 723, 725, 726, 731, 734, 736, 738, 739, 740, 741, 742, 747, 748, 749, 750, 752, 753, 754, 755, 757, 759, 760, 761, 763, 765, 766, 767, 769, 770, 771, 772, 774, 775, 777, 778, 779, 780, 781, 782, 783, 785, 787, 789, 792, 793, 795, 797, 798, 799, 802, 803, 805, 806, 807, 808, 809, 810, 811, 812, 813, 815, 816, 817, 818, 819, 820, 821, 822, 824, 825, 826, 827, 828, 831, 833, 834, 835, 836, 837, 841, 842, 843, 845, 849, 850, 851, 852, 853, 854, 855, 856, 859, 860, 861, 862, 864, 867, 869, 870, 871, 872, 873, 874, 876, 880, 881, 882, 883, 885, 886, 887, 891, 892, 894, 896, 897, 899, 900, 901, 902, 903, 904, 905, 906, 907, 909, 911, 912, 914, 915, 920, 921, 922, 923, 924, 925, 926, 929, 930, 935, 936, 939, 942, 943, 944, 945, 946, 948, 950, 952, 953, 954, 955, 956, 957, 959, 960, 963, 965, 966, 967, 969, 970, 971, 972, 974, 975, 977, 981, 983, 984, 986, 987, 989, 990, 991, 993, 995, 997, 1000]\n"
     ]
    }
   ],
   "source": [
    "import random\n",
    "\n",
    "random.seed(42)\n",
    "\n",
    "a5 = []\n",
    "a6 = []\n",
    "for i in range(1000):\n",
    "    a5 += [random.randint(1,1000)]\n",
    "    a6 += [random.randint(1,1000)]\n",
    "print(list(set(a5))+list(set(a6)))"
   ]
  },
  {
   "cell_type": "markdown",
   "metadata": {},
   "source": [
    "## A few work with dictionaries"
   ]
  },
  {
   "cell_type": "markdown",
   "metadata": {},
   "source": [
    "Given the following dictionary:\n",
    "\n",
    "sports = {'ballsports' : ['tennis', 'badminton', 'bowling', 'cricket', 'football', 'dodgeball'],\n",
    "'Aquatic Sports' : ['snorkeling', 'olympic swimming', 'bodyboarding']\n",
    "}\n",
    "\n",
    "Try to do the followings:\n",
    "- Add a key to inventory called 'Extreme Sports'.\n",
    "- Set the value of 'Extreme Sports' to be a list consisting of the strings 'base jumping', 'parachuting', and 'kitesurfing'.\n",
    ".sort() the items in the list stored under the 'ballsports' key.\n",
    "- Then .remove('football') from the list of items stored under the 'ballsports' key.\n",
    "- Add handball to ballsports value"
   ]
  },
  {
   "cell_type": "code",
   "execution_count": 39,
   "metadata": {},
   "outputs": [
    {
     "name": "stdout",
     "output_type": "stream",
     "text": [
      "{'ballsports': ['badminton', 'bowling', 'cricket', 'dodgeball', 'tennis', 'handball'], 'Aquatic Sports': ['snorkeling', 'olympic swimming', 'bodyboarding'], 'Extreme Sports': ['base jumping', 'parachuting', 'kitesurfing']}\n"
     ]
    }
   ],
   "source": [
    "sports = {'ballsports' : ['tennis', 'badminton', 'bowling', 'cricket', 'football', 'dodgeball'], 'Aquatic Sports' : ['snorkeling', 'olympic swimming', 'bodyboarding'] }\n",
    "sports['Extreme Sports'] = ['base jumping', 'parachuting', 'kitesurfing']\n",
    "sports['ballsports'].sort()\n",
    "sports['ballsports'].remove('football')\n",
    "sports['ballsports'].append('handball')\n",
    "print(sports)"
   ]
  },
  {
   "cell_type": "code",
   "execution_count": null,
   "metadata": {
    "collapsed": true
   },
   "outputs": [],
   "source": []
  }
 ],
 "metadata": {
  "kernelspec": {
   "display_name": "Python 3",
   "language": "python",
   "name": "python3"
  },
  "language_info": {
   "codemirror_mode": {
    "name": "ipython",
    "version": 3
   },
   "file_extension": ".py",
   "mimetype": "text/x-python",
   "name": "python",
   "nbconvert_exporter": "python",
   "pygments_lexer": "ipython3",
   "version": "3.6.3"
  }
 },
 "nbformat": 4,
 "nbformat_minor": 4
}
