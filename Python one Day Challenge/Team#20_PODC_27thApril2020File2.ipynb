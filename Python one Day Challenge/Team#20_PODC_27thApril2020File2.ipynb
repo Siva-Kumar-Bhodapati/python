{
 "cells": [
  {
   "cell_type": "code",
   "execution_count": null,
   "metadata": {
    "scrolled": false
   },
   "outputs": [],
   "source": [
    "#Python Code one Day Chalenge \n",
    "#Team 20\n",
    "#Member's:-\n",
    "#Hiren Rathod | hiren.rathod@epita.fr\n",
    "#Prateek AREKALLU PRAFULLA CHANDRA | prateek.arekallu-prafulla-chandra@epita.fr\n",
    "#Vinay DARAPUREDDI | vinay.darapureddi@epita.fr\n",
    "\n",
    "#This Code Is designed For 3 big Files i.e. 110_oily_portraits.txt , 11_randomizing_paintings.txt , 1_binary_landscapes.txt\n",
    "\n",
    "import timeit\n",
    "\n",
    "frame = []\n",
    "potrait = []\n",
    "f = open('11_randomizing_paintings.txt', \"r\")\n",
    "main = []\n",
    "\n",
    "start = timeit.default_timer()\n",
    "print(\"-----start-----\")\n",
    "print(start)\n",
    "\n",
    "#dividing the dataset between landscapes and portrait\n",
    "\n",
    "for count, i in enumerate(f.readlines()[1:]):\n",
    "    array = i.split()\n",
    "    main.append(array)\n",
    "    if \"L\" in i:\n",
    "        frame.append(array)\n",
    "    else:\n",
    "        potrait.append(array)\n",
    "\n",
    "#Intersection\n",
    "def intersection(lst1,lst2):\n",
    "    return set(lst1).intersection(lst2)\n",
    "\n",
    "\n",
    "#after finding the match deleting that image and storing in deletedIndex\n",
    "\n",
    "def findMatchAndMakingPair(frame,limit):\n",
    "    deletedIndex = []\n",
    "    for j in range(0,len(frame),limit):\n",
    "        for i in range(j,(j+limit)):\n",
    "            #print(i)\n",
    "            maxMatchCount = 0\n",
    "            matchIndex = 0\n",
    "            for subindex in range(i+1,len(frame)-len(deletedIndex)):\n",
    "                subObject = frame[subindex]\n",
    "                matchcount = len(intersection(frame[i], subObject))\n",
    "                if matchcount > maxMatchCount:\n",
    "                    matchIndex = subindex  \n",
    "                    maxMatchCount = matchcount\n",
    "            if matchIndex not in deletedIndex:\n",
    "                deletedIndex.append(matchIndex)\n",
    "            if i not in deletedIndex:\n",
    "                deletedIndex.append(i)\n",
    "    return deletedIndex\n",
    "\n",
    "deletedFrame = findMatchAndMakingPair(frame,len(frame))\n",
    "potraitIndex = findMatchAndMakingPair(potrait,len(potrait))\n",
    "\n",
    "stop = timeit.default_timer()\n",
    "execution_time = stop - start\n",
    "print(execution_time)\n",
    "print(\"-----end-----\")\n",
    "print(\"--------OutPut------------\")\n",
    "\n",
    "\n",
    "#Printing output From Here\n",
    "print(len(frame)+int(len(potrait)/2))\n",
    "\n",
    "for i in deletedFrame:\n",
    "    print(main.index(frame[i]))\n",
    "\n",
    "for i in range(0,len(potraitIndex),2):\n",
    "    print(main.index(potrait[potraitIndex[i]]), main.index(potrait[potraitIndex[i+1]]))\n"
   ]
  },
  {
   "cell_type": "code",
   "execution_count": null,
   "metadata": {},
   "outputs": [],
   "source": []
  },
  {
   "cell_type": "code",
   "execution_count": null,
   "metadata": {},
   "outputs": [],
   "source": []
  },
  {
   "cell_type": "code",
   "execution_count": null,
   "metadata": {},
   "outputs": [],
   "source": [
    "\n"
   ]
  }
 ],
 "metadata": {
  "kernelspec": {
   "display_name": "Python 3",
   "language": "python",
   "name": "python3"
  },
  "language_info": {
   "codemirror_mode": {
    "name": "ipython",
    "version": 3
   },
   "file_extension": ".py",
   "mimetype": "text/x-python",
   "name": "python",
   "nbconvert_exporter": "python",
   "pygments_lexer": "ipython3",
   "version": "3.7.4"
  }
 },
 "nbformat": 4,
 "nbformat_minor": 2
}
