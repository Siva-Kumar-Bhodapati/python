{
 "cells": [
  {
   "cell_type": "markdown",
   "metadata": {},
   "source": [
    "# 4. Input / Output"
   ]
  },
  {
   "cell_type": "code",
   "execution_count": null,
   "metadata": {
    "collapsed": true
   },
   "outputs": [],
   "source": [
    "str1 = input(\"Enter your input: \")\n",
    "print(\"Received input is : \", str1)"
   ]
  },
  {
   "cell_type": "code",
   "execution_count": null,
   "metadata": {
    "collapsed": true
   },
   "outputs": [],
   "source": [
    "# Open a file\n",
    "f = open(\"test.txt\", \"r\")\n",
    "print (\"Name of the file: \", f.name)\n",
    "print (\"Closed or not : \", f.closed)\n",
    "print (\"Opening mode : \", f.mode)\n",
    "\n",
    "# Close opened file\n",
    "f.close()"
   ]
  },
  {
   "cell_type": "code",
   "execution_count": null,
   "metadata": {
    "collapsed": true
   },
   "outputs": [],
   "source": [
    "f = open(\"test.txt\", \"w\")\n",
    "f.write(\"Python is a great language\\n\")\n",
    "f.write(\"I hope you also thinks so !\")\n",
    "\n",
    "f = open(\"test.txt\", \"r\")\n",
    "s = f.readlines()\n",
    "f.close()\n",
    "print(s)"
   ]
  },
  {
   "cell_type": "code",
   "execution_count": null,
   "metadata": {
    "collapsed": true
   },
   "outputs": [],
   "source": [
    "# Open a file\n",
    "f = open(\"test.txt\", \"r+\")\n",
    "str1 = f.read(10);\n",
    "print (\"Read String is : \", str1)\n",
    "# Close opend file\n",
    "f.close()\n",
    "\n",
    "f = open(\"test.txt\", \"r\")\n",
    "for i in f.readlines():\n",
    "    print(i)\n",
    "f.close()"
   ]
  },
  {
   "cell_type": "code",
   "execution_count": null,
   "metadata": {
    "collapsed": true
   },
   "outputs": [],
   "source": [
    "import csv\n",
    "\n",
    "with open('employee_file.csv', mode='w') as employee_file:\n",
    "    employee_writer = csv.writer(employee_file, delimiter=',')\n",
    "\n",
    "    employee_writer.writerow(['John Smith', 'Accounting', 'November'])\n",
    "    employee_writer.writerow(['Erica Meyers', 'IT', 'March'])"
   ]
  },
  {
   "cell_type": "code",
   "execution_count": null,
   "metadata": {
    "collapsed": true
   },
   "outputs": [],
   "source": [
    "with open('employee_file.csv') as csv_file:\n",
    "    csv_reader = csv.reader(csv_file, delimiter=',')\n",
    "    for row in csv_reader:\n",
    "        print(row)"
   ]
  },
  {
   "cell_type": "code",
   "execution_count": null,
   "metadata": {
    "collapsed": true
   },
   "outputs": [],
   "source": [
    "with open('employee_file2.csv', mode='w') as csv_file:\n",
    "    fieldnames = ['name', 'dep', 'birth']\n",
    "    writer = csv.DictWriter(csv_file, fieldnames=fieldnames)\n",
    "\n",
    "    writer.writeheader()\n",
    "    writer.writerow({'name': 'John Smith', 'dep': 'Accounting', 'birth': 'November'})\n",
    "    writer.writerow({'name': 'Erica Meyers', 'dep': 'IT', 'birth': 'March'})"
   ]
  },
  {
   "cell_type": "code",
   "execution_count": null,
   "metadata": {
    "collapsed": true
   },
   "outputs": [],
   "source": [
    "with open('employee_file2.csv', mode='r') as csv_file:\n",
    "    csv_reader = csv.DictReader(csv_file)\n",
    "    line_count = 0\n",
    "    for row in csv_reader:\n",
    "        print(row)\n",
    "        print(row[\"name\"])"
   ]
  },
  {
   "cell_type": "markdown",
   "metadata": {},
   "source": [
    "## 3. Exercices"
   ]
  },
  {
   "cell_type": "markdown",
   "metadata": {},
   "source": [
    "Create a function that open the file text1.txt and returns the number of paragraphs, words and characters in the file.\n",
    "\n",
    "The expected values are: 73 paragraphs, 6875 words, 46208 characters."
   ]
  },
  {
   "cell_type": "code",
   "execution_count": 22,
   "metadata": {},
   "outputs": [
    {
     "name": "stdout",
     "output_type": "stream",
     "text": [
      "paras: 73\n",
      "words: 6875\n",
      "chars: 46208\n"
     ]
    }
   ],
   "source": [
    "def get_file_stats(fname):\n",
    "    paras = chars = 0\n",
    "    words = list()\n",
    "    with open('C:/Users/prath/OneDrive/Desktop/{}'.format(fname), 'r') as f: \n",
    "        for line in f.readlines():\n",
    "            if line[0] != '\\n':\n",
    "                paras += 1\n",
    "            else:\n",
    "                continue\n",
    "            words += line.split(' ')\n",
    "            for i in line:\n",
    "                if i not in ['\\n']:\n",
    "                    chars += 1\n",
    "    with open('C:/Users/prath/OneDrive/Desktop/{}'.format(fname.split('.')[0]+'.csv'), 'w') as f: \n",
    "        f.write('paras,'+str(paras)+'\\n')\n",
    "        f.write('words,'+str(len(words))+'\\n')\n",
    "        f.write('paras,'+str(chars)+'\\n')\n",
    "    print(\"paras: {}\".format(paras))\n",
    "    print(\"words: {}\".format(len(words)))\n",
    "    print(\"chars: {}\".format(chars))\n",
    "\n",
    "get_file_stats('text1.txt')"
   ]
  },
  {
   "cell_type": "markdown",
   "metadata": {},
   "source": [
    "Create a function that open the file text1.txt and write in a csv file the number of paragraphs, words and characters in the file."
   ]
  },
  {
   "cell_type": "code",
   "execution_count": null,
   "metadata": {
    "collapsed": true
   },
   "outputs": [],
   "source": [
    "get_file_stats('text1.txt')"
   ]
  },
  {
   "cell_type": "markdown",
   "metadata": {},
   "source": [
    "Create a function that returns for every letter in the alphabet, how many of this letter is present in the file text1.txt"
   ]
  },
  {
   "cell_type": "code",
   "execution_count": 37,
   "metadata": {},
   "outputs": [
    {
     "name": "stdout",
     "output_type": "stream",
     "text": [
      "{'a': 3120, 'b': 455, 'c': 1504, 'd': 1161, 'e': 4428, 'f': 404, 'g': 466, 'h': 209, 'i': 3900, 'j': 50, 'k': 0, 'l': 2246, 'm': 1822, 'n': 2260, 'o': 1532, 'p': 975, 'q': 524, 'r': 2149, 's': 3269, 't': 3236, 'u': 3494, 'v': 621, 'w': 0, 'x': 85, 'y': 0, 'z': 0}\n"
     ]
    }
   ],
   "source": [
    "def count_alpha(fname):\n",
    "    import string\n",
    "    alpha_dict = {k:0 for k in string.ascii_letters.lower()}\n",
    "    with open('C:/Users/prath/OneDrive/Desktop/{}'.format(fname), 'r') as f: \n",
    "        text = f.read()\n",
    "        count = 0\n",
    "        for i in text:\n",
    "            if i.lower() in string.ascii_letters.lower():\n",
    "                alpha_dict[i.lower()] += 1\n",
    "    print(alpha_dict)\n",
    "count_alpha('text1.txt')"
   ]
  },
  {
   "cell_type": "markdown",
   "metadata": {},
   "source": [
    "Use the same functions to have the results on text2.txt.\n",
    "\n",
    "The expected values are: 148 paragraphs, 12923 words, 87169 characters "
   ]
  },
  {
   "cell_type": "code",
   "execution_count": 38,
   "metadata": {},
   "outputs": [
    {
     "name": "stdout",
     "output_type": "stream",
     "text": [
      "paras: 148\n",
      "words: 12923\n",
      "chars: 87169\n"
     ]
    }
   ],
   "source": [
    "get_file_stats('text2.txt')"
   ]
  },
  {
   "cell_type": "markdown",
   "metadata": {},
   "source": [
    "Create a CSV file with 3 columns: Name, Gender, Present with every student in the class, the column \"Present\" showing if the student is present during the class or not."
   ]
  },
  {
   "cell_type": "code",
   "execution_count": 39,
   "metadata": {
    "collapsed": true
   },
   "outputs": [],
   "source": [
    "with open('C:/Users/prath/OneDrive/Desktop/{}'.format('class_attendence.csv'), 'w') as f: \n",
    "    f.write('Name,Gender,Present\\n')\n",
    "    f.write('Prateek,M,Y\\n')\n",
    "    f.write('Nouruddine,M,Y\\n')\n",
    "    f.write('Meena,F,Y\\n')\n",
    "    f.write('Sruthi,F,Y\\n')\n",
    "    f.write('Saleel,M,Y\\n')\n",
    "    f.write('Noor,F,Y\\n')\n",
    "    f.write('Chohan,M,Y\\n')\n",
    "    f.write('Zia,M,Y\\n')\n",
    "    f.write('Prashanti,F,Y\\n')"
   ]
  },
  {
   "cell_type": "markdown",
   "metadata": {},
   "source": [
    "Create a function that takes a string as input and add the string as a new line in the test.txt file"
   ]
  },
  {
   "cell_type": "code",
   "execution_count": 15,
   "metadata": {
    "collapsed": true
   },
   "outputs": [],
   "source": [
    "def write_a_line(st):\n",
    "    with open('C:/Users/prath/OneDrive/Desktop/test.txt', 'a') as f: \n",
    "        f.write(st)\n",
    "write_a_line(\"\\nThis is the line i wrote\")"
   ]
  },
  {
   "cell_type": "markdown",
   "metadata": {},
   "source": [
    "Create a function that deciphers the crypted text in encrypted.txt. What is the original text ?"
   ]
  },
  {
   "cell_type": "code",
   "execution_count": 52,
   "metadata": {},
   "outputs": [],
   "source": [
    "with open('C:/Users/prath/OneDrive/Desktop/encrypted.txt', 'r') as f: \n",
    "    import string\n",
    "    index_alpha = {string.ascii_letters.lower().index(k)+1: k for k in string.ascii_letters.lower()}\n",
    "    alpha_index = {k: string.ascii_letters.lower().index(k)+1 for k in string.ascii_letters.lower()}\n",
    "    with open('C:/Users/prath/OneDrive/Desktop/decrypted.txt', 'w') as f_: \n",
    "        text = f.read()\n",
    "        for i in text:\n",
    "            if i.lower() in string.ascii_letters.lower():\n",
    "                index = alpha_index[i.lower()]\n",
    "                if i.islower():\n",
    "                    f_.write(index_alpha[index-8]) if index-8 > 0 else f_.write(index_alpha[index-8+26])\n",
    "                else:\n",
    "                    f_.write(index_alpha[index-8].upper()) if index-8 > 0 else f_.write(index_alpha[index-8+26].upper())\n",
    "            else:\n",
    "                f_.write(i)"
   ]
  },
  {
   "cell_type": "code",
   "execution_count": 46,
   "metadata": {},
   "outputs": [
    {
     "name": "stdout",
     "output_type": "stream",
     "text": [
      "{'a': 0, 'b': 1, 'c': 2, 'd': 3, 'e': 4, 'f': 5, 'g': 6, 'h': 7, 'i': 8, 'j': 9, 'k': 10, 'l': 11, 'm': 12, 'n': 13, 'o': 14, 'p': 15, 'q': 16, 'r': 17, 's': 18, 't': 19, 'u': 20, 'v': 21, 'w': 22, 'x': 23, 'y': 24, 'z': 25}\n"
     ]
    }
   ],
   "source": [
    "import string\n",
    "alpha_dict = {k:string.ascii_letters.lower().index(k) for k in string.ascii_letters.lower()}\n",
    "print(alpha_dict)"
   ]
  },
  {
   "cell_type": "code",
   "execution_count": null,
   "metadata": {
    "collapsed": true
   },
   "outputs": [],
   "source": []
  }
 ],
 "metadata": {
  "kernelspec": {
   "display_name": "Python 3",
   "language": "python",
   "name": "python3"
  },
  "language_info": {
   "codemirror_mode": {
    "name": "ipython",
    "version": 3
   },
   "file_extension": ".py",
   "mimetype": "text/x-python",
   "name": "python",
   "nbconvert_exporter": "python",
   "pygments_lexer": "ipython3",
   "version": "3.6.3"
  }
 },
 "nbformat": 4,
 "nbformat_minor": 4
}
