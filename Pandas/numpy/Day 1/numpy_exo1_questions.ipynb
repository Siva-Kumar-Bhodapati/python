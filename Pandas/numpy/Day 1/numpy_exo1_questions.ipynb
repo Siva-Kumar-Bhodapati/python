{
 "cells": [
  {
   "cell_type": "markdown",
   "metadata": {},
   "source": [
    "# Discovery of the Numpy library\n"
   ]
  },
  {
   "cell_type": "markdown",
   "metadata": {},
   "source": [
    "- Use the numpy.genfromtxt () function to read the file \"world_alcohol.csv\" in an array called world_alcohol\n",
    "- Use the type () and print () functions to display the type of world_alcohol\n"
   ]
  },
  {
   "cell_type": "code",
   "execution_count": 14,
   "metadata": {},
   "outputs": [
    {
     "name": "stdout",
     "output_type": "stream",
     "text": [
      "<class 'numpy.ndarray'>\n"
     ]
    }
   ],
   "source": [
    "from io import StringIO\n",
    "import numpy as np\n",
    "\n",
    "world_alcohol = np.genfromtxt(\"world_alcohol.csv\", delimiter=\",\", dtype=str)\n",
    "print(type(world_alcohol))\n"
   ]
  },
  {
   "cell_type": "markdown",
   "metadata": {},
   "source": [
    "- Assign the data type of world_alcohol to the variable world_alcohol_dtype\n",
    "- Show world_alcohol_dtype\n"
   ]
  },
  {
   "cell_type": "code",
   "execution_count": 34,
   "metadata": {},
   "outputs": [
    {
     "name": "stdout",
     "output_type": "stream",
     "text": [
      "<class 'numpy.ndarray'>\n"
     ]
    }
   ],
   "source": [
    "world_alcohol_dtype = world_alcohol\n",
    "print(type(world_alcohol_dtype))"
   ]
  },
  {
   "cell_type": "markdown",
   "metadata": {},
   "source": [
    "## Display data correctly\n"
   ]
  },
  {
   "cell_type": "code",
   "execution_count": 36,
   "metadata": {},
   "outputs": [
    {
     "data": {
      "text/plain": [
       "array([['Year', 'WHO region', 'Country', 'Beverage Types',\n",
       "        'Display Value'],\n",
       "       ['1986', 'Western Pacific', 'Viet Nam', 'Wine', '0'],\n",
       "       ['1986', 'Americas', 'Uruguay', 'Other', '0.5'],\n",
       "       ...,\n",
       "       ['1986', 'Europe', 'Switzerland', 'Spirits', '2.54'],\n",
       "       ['1987', 'Western Pacific', 'Papua New Guinea', 'Other', '0'],\n",
       "       ['1986', 'Africa', 'Swaziland', 'Other', '5.15']], dtype='<U52')"
      ]
     },
     "execution_count": 36,
     "metadata": {},
     "output_type": "execute_result"
    }
   ],
   "source": [
    "world_alcohol_dtype"
   ]
  },
  {
   "cell_type": "markdown",
   "metadata": {},
   "source": [
    "## Extract a value from a Numpy array\n"
   ]
  },
  {
   "cell_type": "markdown",
   "metadata": {},
   "source": [
    "- Assign the number of liters of wine drunk by an Ivorian in 1985 to the variable ivoire_1985. This corresponds to the data in the third line.\n",
    "- Assign the name of the country in the 2nd line to the second_country variable.\n"
   ]
  },
  {
   "cell_type": "code",
   "execution_count": 55,
   "metadata": {},
   "outputs": [
    {
     "name": "stdout",
     "output_type": "stream",
     "text": [
      "1.62\n"
     ]
    }
   ],
   "source": [
    "ivoire_1985 = world_alcohol[3,4]\n",
    "print(ivoire_1985)"
   ]
  },
  {
   "cell_type": "code",
   "execution_count": 57,
   "metadata": {},
   "outputs": [
    {
     "name": "stdout",
     "output_type": "stream",
     "text": [
      "Uruguay\n"
     ]
    }
   ],
   "source": [
    "second_country = world_alcohol[2,2]\n",
    "print(second_country)"
   ]
  },
  {
   "cell_type": "markdown",
   "metadata": {},
   "source": [
    "## Extract a vector of values ​​from a Numpy array\n"
   ]
  },
  {
   "cell_type": "markdown",
   "metadata": {},
   "source": [
    "- Assign the entire 3rd column of world_alcohol to the variable countries.\n",
    "- Assign the whole of the 5th column of world_alcohol to the variable alcohol_consumption.\n"
   ]
  },
  {
   "cell_type": "code",
   "execution_count": 44,
   "metadata": {},
   "outputs": [
    {
     "name": "stdout",
     "output_type": "stream",
     "text": [
      "['Country' 'Viet Nam' 'Uruguay' ... 'Switzerland' 'Papua New Guinea'\n",
      " 'Swaziland']\n"
     ]
    }
   ],
   "source": [
    "countries = world_alcohol[:,2]\n",
    "print(countries)"
   ]
  },
  {
   "cell_type": "code",
   "execution_count": 45,
   "metadata": {},
   "outputs": [
    {
     "name": "stdout",
     "output_type": "stream",
     "text": [
      "['Display Value' '0' '0.5' ... '2.54' '0' '5.15']\n"
     ]
    }
   ],
   "source": [
    "alcohol_consumption = world_alcohol[:,4]\n",
    "print(alcohol_consumption)"
   ]
  },
  {
   "cell_type": "markdown",
   "metadata": {},
   "source": [
    "## Extract an array of values ​​from a Numpy array\n"
   ]
  },
  {
   "cell_type": "markdown",
   "metadata": {},
   "source": [
    "- Assign all the rows of the first 2 columns of world_alcohol to the variable first_two_columns.\n",
    "- Assign the first 10 lines of the first column of world_alcohol to the variable first_ten_years.\n",
    "- Assign the first 10 lines of all the columns of world_alcohol to the variable first_ten_rows.\n",
    "- Assign the first 20 rows of columns of index 1 and 2 of world_alcohol to the variable first_twenty_regions.\n"
   ]
  },
  {
   "cell_type": "code",
   "execution_count": 48,
   "metadata": {},
   "outputs": [
    {
     "name": "stdout",
     "output_type": "stream",
     "text": [
      "[['Year' 'WHO region']\n",
      " ['1986' 'Western Pacific']\n",
      " ['1986' 'Americas']\n",
      " ...\n",
      " ['1986' 'Europe']\n",
      " ['1987' 'Western Pacific']\n",
      " ['1986' 'Africa']]\n"
     ]
    }
   ],
   "source": [
    "first_two_columns = world_alcohol[:,:2]\n",
    "print(first_two_columns)"
   ]
  },
  {
   "cell_type": "code",
   "execution_count": 50,
   "metadata": {},
   "outputs": [
    {
     "name": "stdout",
     "output_type": "stream",
     "text": [
      "['Year' '1986' '1986' '1985' '1986' '1987' '1987' '1987' '1985' '1986'\n",
      " '1984']\n"
     ]
    }
   ],
   "source": [
    "first_ten_years = world_alcohol[:11,0]\n",
    "print(first_ten_years)"
   ]
  },
  {
   "cell_type": "code",
   "execution_count": 52,
   "metadata": {},
   "outputs": [
    {
     "name": "stdout",
     "output_type": "stream",
     "text": [
      "[['Year' 'WHO region' 'Country' 'Beverage Types' 'Display Value']\n",
      " ['1986' 'Western Pacific' 'Viet Nam' 'Wine' '0']\n",
      " ['1986' 'Americas' 'Uruguay' 'Other' '0.5']\n",
      " ['1985' 'Africa' \"Cte d'Ivoire\" 'Wine' '1.62']\n",
      " ['1986' 'Americas' 'Colombia' 'Beer' '4.27']\n",
      " ['1987' 'Americas' 'Saint Kitts and Nevis' 'Beer' '1.98']\n",
      " ['1987' 'Americas' 'Guatemala' 'Other' '0']\n",
      " ['1987' 'Africa' 'Mauritius' 'Wine' '0.13']\n",
      " ['1985' 'Africa' 'Angola' 'Spirits' '0.39']\n",
      " ['1986' 'Americas' 'Antigua and Barbuda' 'Spirits' '1.55']\n",
      " ['1984' 'Africa' 'Nigeria' 'Other' '6.1']]\n"
     ]
    }
   ],
   "source": [
    "first_ten_rows = world_alcohol[:11,:]\n",
    "print(first_ten_rows)"
   ]
  },
  {
   "cell_type": "code",
   "execution_count": 53,
   "metadata": {},
   "outputs": [
    {
     "name": "stdout",
     "output_type": "stream",
     "text": [
      "[['WHO region' 'Country']\n",
      " ['Western Pacific' 'Viet Nam']\n",
      " ['Americas' 'Uruguay']\n",
      " ['Africa' \"Cte d'Ivoire\"]\n",
      " ['Americas' 'Colombia']\n",
      " ['Americas' 'Saint Kitts and Nevis']\n",
      " ['Americas' 'Guatemala']\n",
      " ['Africa' 'Mauritius']\n",
      " ['Africa' 'Angola']\n",
      " ['Americas' 'Antigua and Barbuda']\n",
      " ['Africa' 'Nigeria']\n",
      " ['Africa' 'Botswana']\n",
      " ['Americas' 'Guatemala']\n",
      " ['Western Pacific' \"Lao People's Democratic Republic\"]\n",
      " ['Eastern Mediterranean' 'Afghanistan']\n",
      " ['Western Pacific' 'Viet Nam']\n",
      " ['Africa' 'Guinea-Bissau']\n",
      " ['Americas' 'Costa Rica']\n",
      " ['Africa' 'Seychelles']\n",
      " ['Europe' 'Norway']\n",
      " ['Africa' 'Kenya']]\n"
     ]
    }
   ],
   "source": [
    "first_twenty_regions = world_alcohol[:21,1:3]\n",
    "print(first_twenty_regions)"
   ]
  },
  {
   "cell_type": "code",
   "execution_count": null,
   "metadata": {},
   "outputs": [],
   "source": []
  },
  {
   "cell_type": "code",
   "execution_count": null,
   "metadata": {},
   "outputs": [],
   "source": []
  },
  {
   "cell_type": "code",
   "execution_count": null,
   "metadata": {},
   "outputs": [],
   "source": []
  },
  {
   "cell_type": "code",
   "execution_count": null,
   "metadata": {},
   "outputs": [],
   "source": []
  }
 ],
 "metadata": {
  "kernelspec": {
   "display_name": "Python 3",
   "language": "python",
   "name": "python3"
  },
  "language_info": {
   "codemirror_mode": {
    "name": "ipython",
    "version": 3
   },
   "file_extension": ".py",
   "mimetype": "text/x-python",
   "name": "python",
   "nbconvert_exporter": "python",
   "pygments_lexer": "ipython3",
   "version": "3.7.6"
  }
 },
 "nbformat": 4,
 "nbformat_minor": 2
}
