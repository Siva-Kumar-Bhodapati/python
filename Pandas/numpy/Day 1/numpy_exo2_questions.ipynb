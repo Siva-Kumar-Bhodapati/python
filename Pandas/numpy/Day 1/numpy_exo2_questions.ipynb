{
 "cells": [
  {
   "cell_type": "markdown",
   "metadata": {},
   "source": [
    "# Data analysis with Numpy\n"
   ]
  },
  {
   "cell_type": "markdown",
   "metadata": {},
   "source": [
    "Read the world_alcohol.csv dataset in the world_alcohol variable (see previous section if necessary)\n"
   ]
  },
  {
   "cell_type": "markdown",
   "metadata": {},
   "source": [
    "#### Mission:\n",
    "- Extract the 3rd column from world_alcohol and compare it to the country \"Canada\". Assign the result to the variable countries_canada.\n",
    "- Extract the first column from world_alcohol and compare it to the character string \"1984\". Assign the result to the variable years_1984.\n"
   ]
  },
  {
   "cell_type": "code",
   "execution_count": 4,
   "metadata": {},
   "outputs": [],
   "source": [
    "from io import StringIO\n",
    "import numpy as np\n",
    "\n",
    "world_alcohol = np.genfromtxt(\"world_alcohol.csv\", delimiter=\",\", dtype=str)\n"
   ]
  },
  {
   "cell_type": "code",
   "execution_count": 4,
   "metadata": {},
   "outputs": [
    {
     "data": {
      "text/plain": [
       "array([['1984', 'Americas', 'Canada', 'Spirits', '3.35'],\n",
       "       ['1989', 'Americas', 'Canada', 'Wine', '1.27'],\n",
       "       ['1984', 'Americas', 'Canada', 'Beer', '5'],\n",
       "       ['1985', 'Americas', 'Canada', 'Beer', '4.94'],\n",
       "       ['1987', 'Americas', 'Canada', 'Wine', '1.3'],\n",
       "       ['1987', 'Americas', 'Canada', 'Beer', '4.83'],\n",
       "       ['1986', 'Americas', 'Canada', 'Other', ''],\n",
       "       ['1986', 'Americas', 'Canada', 'Spirits', '3.11'],\n",
       "       ['1985', 'Americas', 'Canada', 'Spirits', '3.21'],\n",
       "       ['1985', 'Americas', 'Canada', 'Other', ''],\n",
       "       ['1986', 'Americas', 'Canada', 'Beer', '4.87'],\n",
       "       ['1984', 'Americas', 'Canada', 'Wine', '1.24'],\n",
       "       ['1989', 'Americas', 'Canada', 'Spirits', '2.91'],\n",
       "       ['1984', 'Americas', 'Canada', 'Other', ''],\n",
       "       ['1985', 'Americas', 'Canada', 'Wine', '1.29'],\n",
       "       ['1987', 'Americas', 'Canada', 'Spirits', '2.99'],\n",
       "       ['1989', 'Americas', 'Canada', 'Beer', '4.82'],\n",
       "       ['1989', 'Americas', 'Canada', 'Other', ''],\n",
       "       ['1986', 'Americas', 'Canada', 'Wine', '1.33'],\n",
       "       ['1987', 'Americas', 'Canada', 'Other', '']], dtype='<U52')"
      ]
     },
     "execution_count": 4,
     "metadata": {},
     "output_type": "execute_result"
    }
   ],
   "source": [
    "countries = world_alcohol[:,2]\n",
    "countries_canada = world_alcohol[(countries == \"Canada\")]\n",
    "countries_canada"
   ]
  },
  {
   "cell_type": "code",
   "execution_count": 6,
   "metadata": {},
   "outputs": [
    {
     "data": {
      "text/plain": [
       "array([['1984', 'Africa', 'Nigeria', 'Other', '6.1'],\n",
       "       ['1984', 'Eastern Mediterranean', 'Afghanistan', 'Other', '0'],\n",
       "       ['1984', 'Americas', 'Costa Rica', 'Wine', '0.06'],\n",
       "       ...,\n",
       "       ['1984', 'Europe', 'Latvia', 'Spirits', '7.5'],\n",
       "       ['1984', 'Africa', 'Angola', 'Wine', '0.57'],\n",
       "       ['1984', 'Africa', 'Central African Republic', 'Wine', '0.46']],\n",
       "      dtype='<U52')"
      ]
     },
     "execution_count": 6,
     "metadata": {},
     "output_type": "execute_result"
    }
   ],
   "source": [
    "year = world_alcohol[:,0]\n",
    "years_1984 = world_alcohol[(year == \"1984\")]\n",
    "years_1984"
   ]
  },
  {
   "cell_type": "markdown",
   "metadata": {},
   "source": [
    "## Select items\n"
   ]
  },
  {
   "cell_type": "markdown",
   "metadata": {},
   "source": [
    "- Compare the 3rd column of world_alcohol to the character string \"Algeria\".\n",
    "- Assign the result to the variable country_is_algeria.\n",
    "- Select only the lines of world_alcohol for which country_is_algeria is True\n",
    "- Assign the result to the country_algeria variable.\n",
    "- Display the results\n",
    "- Do the same work to recover all the lines corresponding to the year \"1984\". Assign the result to the variable years_1984.\n"
   ]
  },
  {
   "cell_type": "code",
   "execution_count": 7,
   "metadata": {},
   "outputs": [
    {
     "data": {
      "text/plain": [
       "array([['1984', 'Africa', 'Algeria', 'Spirits', '0.01'],\n",
       "       ['1987', 'Africa', 'Algeria', 'Beer', '0.17'],\n",
       "       ['1987', 'Africa', 'Algeria', 'Spirits', '0.01'],\n",
       "       ['1986', 'Africa', 'Algeria', 'Wine', '0.1'],\n",
       "       ['1984', 'Africa', 'Algeria', 'Other', '0'],\n",
       "       ['1989', 'Africa', 'Algeria', 'Beer', '0.16'],\n",
       "       ['1989', 'Africa', 'Algeria', 'Spirits', '0.01'],\n",
       "       ['1989', 'Africa', 'Algeria', 'Wine', '0.23'],\n",
       "       ['1986', 'Africa', 'Algeria', 'Spirits', '0.01'],\n",
       "       ['1984', 'Africa', 'Algeria', 'Wine', '0.12'],\n",
       "       ['1985', 'Africa', 'Algeria', 'Beer', '0.19'],\n",
       "       ['1985', 'Africa', 'Algeria', 'Other', '0'],\n",
       "       ['1986', 'Africa', 'Algeria', 'Beer', '0.18'],\n",
       "       ['1985', 'Africa', 'Algeria', 'Wine', '0.11'],\n",
       "       ['1986', 'Africa', 'Algeria', 'Other', '0'],\n",
       "       ['1989', 'Africa', 'Algeria', 'Other', '0'],\n",
       "       ['1987', 'Africa', 'Algeria', 'Other', '0'],\n",
       "       ['1984', 'Africa', 'Algeria', 'Beer', '0.2'],\n",
       "       ['1985', 'Africa', 'Algeria', 'Spirits', '0.01'],\n",
       "       ['1987', 'Africa', 'Algeria', 'Wine', '0.1']], dtype='<U52')"
      ]
     },
     "execution_count": 7,
     "metadata": {},
     "output_type": "execute_result"
    }
   ],
   "source": [
    "countries1 = world_alcohol[:,2]\n",
    "country_is_algeria = world_alcohol[(countries1 == \"Algeria\")]\n",
    "country_is_algeria"
   ]
  },
  {
   "cell_type": "code",
   "execution_count": 8,
   "metadata": {},
   "outputs": [
    {
     "data": {
      "text/plain": [
       "array([['1984', 'Africa', 'Nigeria', 'Other', '6.1'],\n",
       "       ['1984', 'Eastern Mediterranean', 'Afghanistan', 'Other', '0'],\n",
       "       ['1984', 'Americas', 'Costa Rica', 'Wine', '0.06'],\n",
       "       ...,\n",
       "       ['1984', 'Europe', 'Latvia', 'Spirits', '7.5'],\n",
       "       ['1984', 'Africa', 'Angola', 'Wine', '0.57'],\n",
       "       ['1984', 'Africa', 'Central African Republic', 'Wine', '0.46']],\n",
       "      dtype='<U52')"
      ]
     },
     "execution_count": 8,
     "metadata": {},
     "output_type": "execute_result"
    }
   ],
   "source": [
    "year = world_alcohol[:,0]\n",
    "years_1984 = world_alcohol[(year == \"1984\")]\n",
    "years_1984"
   ]
  },
  {
   "cell_type": "code",
   "execution_count": null,
   "metadata": {},
   "outputs": [],
   "source": []
  },
  {
   "cell_type": "markdown",
   "metadata": {},
   "source": [
    "## Perform comparisons with several conditions\n"
   ]
  },
  {
   "cell_type": "markdown",
   "metadata": {},
   "source": [
    "- Select the lines whose country is \"Algeria\" and the year \"1986\":\n",
    "> - Create this double comparison and assign the result to the variable is_algeria_and_1986.\n",
    "> - Use is_algeria_and_1986 to select the corresponding lines in the world_alcohol table.\n",
    "> - Assign the result to the rows_with_algeria_and_1986 variable.\n",
    "> - Display the result.\n"
   ]
  },
  {
   "cell_type": "code",
   "execution_count": 27,
   "metadata": {},
   "outputs": [
    {
     "name": "stdout",
     "output_type": "stream",
     "text": [
      "[False False False ... False False False]\n",
      "[False False False ... False False False]\n"
     ]
    },
    {
     "ename": "TypeError",
     "evalue": "'numpy.ndarray' object is not callable",
     "output_type": "error",
     "traceback": [
      "\u001b[1;31m---------------------------------------------------------------------------\u001b[0m",
      "\u001b[1;31mTypeError\u001b[0m                                 Traceback (most recent call last)",
      "\u001b[1;32m<ipython-input-27-d0d68bf82629>\u001b[0m in \u001b[0;36m<module>\u001b[1;34m\u001b[0m\n\u001b[0;32m      6\u001b[0m \u001b[0mprint\u001b[0m\u001b[1;33m(\u001b[0m\u001b[0myear\u001b[0m\u001b[1;33m)\u001b[0m\u001b[1;33m\u001b[0m\u001b[1;33m\u001b[0m\u001b[0m\n\u001b[0;32m      7\u001b[0m \u001b[0mis_algeria_and_1986\u001b[0m \u001b[1;33m=\u001b[0m \u001b[0mnp\u001b[0m\u001b[1;33m.\u001b[0m\u001b[0mall\u001b[0m\u001b[1;33m(\u001b[0m\u001b[1;33m(\u001b[0m\u001b[0mcountry\u001b[0m\u001b[1;33m,\u001b[0m\u001b[0myear\u001b[0m\u001b[1;33m)\u001b[0m\u001b[1;33m)\u001b[0m\u001b[1;33m\u001b[0m\u001b[1;33m\u001b[0m\u001b[0m\n\u001b[1;32m----> 8\u001b[1;33m \u001b[0mrows_with_algeria_and_1986\u001b[0m \u001b[1;33m=\u001b[0m \u001b[0mworld_alcohol\u001b[0m\u001b[1;33m(\u001b[0m\u001b[0mis_algeria_and_1986\u001b[0m\u001b[1;33m)\u001b[0m\u001b[1;33m\u001b[0m\u001b[1;33m\u001b[0m\u001b[0m\n\u001b[0m\u001b[0;32m      9\u001b[0m \u001b[0mrows_with_algeria_and_1986\u001b[0m\u001b[1;33m\u001b[0m\u001b[1;33m\u001b[0m\u001b[0m\n",
      "\u001b[1;31mTypeError\u001b[0m: 'numpy.ndarray' object is not callable"
     ]
    }
   ],
   "source": [
    "countries2 = world_alcohol[:,2]\n",
    "country1 = (countries2 == \"Algeria\")\n",
    "print(country1)\n",
    "year1986 = world_alcohol[:,0]\n",
    "year = (year1986 == \"1984\")\n",
    "print(year)\n",
    "is_algeria_and_1986 = np.all((country,year))\n",
    "rows_with_algeria_and_1986 = world_alcohol(is_algeria_and_1986)\n",
    "rows_with_algeria_and_1986"
   ]
  },
  {
   "cell_type": "markdown",
   "metadata": {},
   "source": [
    "## Replace values ​​in a Numpy array\n"
   ]
  },
  {
   "cell_type": "markdown",
   "metadata": {},
   "source": [
    "- Create an array numpy world_alcohol_2 equal world_alcohol to duplicate it under another name.\n",
    "- Replace all the years \"1986\" in the first column of world_alcohol_2 with \"2018\".\n",
    "- Replace all \"Wine\" alcohols in the 4th column of world_alcohol_2 with \"Beer\".\n"
   ]
  },
  {
   "cell_type": "code",
   "execution_count": 12,
   "metadata": {},
   "outputs": [
    {
     "ename": "TypeError",
     "evalue": "where() got an unexpected keyword argument 'inplace'",
     "output_type": "error",
     "traceback": [
      "\u001b[1;31m---------------------------------------------------------------------------\u001b[0m",
      "\u001b[1;31mTypeError\u001b[0m                                 Traceback (most recent call last)",
      "\u001b[1;32m<ipython-input-12-7fc96c93d7ed>\u001b[0m in \u001b[0;36m<module>\u001b[1;34m\u001b[0m\n\u001b[1;32m----> 1\u001b[1;33m \u001b[0mnp\u001b[0m\u001b[1;33m.\u001b[0m\u001b[0mwhere\u001b[0m\u001b[1;33m(\u001b[0m\u001b[0mworld_alcohol_2\u001b[0m\u001b[1;33m[\u001b[0m\u001b[1;33m:\u001b[0m\u001b[1;33m,\u001b[0m\u001b[1;36m0\u001b[0m\u001b[1;33m]\u001b[0m \u001b[1;33m==\u001b[0m \u001b[1;34m'1986'\u001b[0m\u001b[1;33m,\u001b[0m \u001b[1;34m'2018'\u001b[0m\u001b[1;33m,\u001b[0m \u001b[0mworld_alcohol_2\u001b[0m\u001b[1;33m[\u001b[0m\u001b[1;33m:\u001b[0m\u001b[1;33m,\u001b[0m\u001b[1;36m0\u001b[0m\u001b[1;33m]\u001b[0m\u001b[1;33m,\u001b[0m \u001b[0minplace\u001b[0m \u001b[1;33m=\u001b[0m \u001b[1;32mTrue\u001b[0m \u001b[1;33m)\u001b[0m\u001b[1;33m\u001b[0m\u001b[1;33m\u001b[0m\u001b[0m\n\u001b[0m\u001b[0;32m      2\u001b[0m \u001b[1;33m\u001b[0m\u001b[0m\n\u001b[0;32m      3\u001b[0m \u001b[0mwo\u001b[0m\u001b[1;33m\u001b[0m\u001b[1;33m\u001b[0m\u001b[0m\n",
      "\u001b[1;32m<__array_function__ internals>\u001b[0m in \u001b[0;36mwhere\u001b[1;34m(*args, **kwargs)\u001b[0m\n",
      "\u001b[1;31mTypeError\u001b[0m: where() got an unexpected keyword argument 'inplace'"
     ]
    }
   ],
   "source": [
    "\n",
    "np.where(world_alcohol_2[:,0] == '1986', '2018', world_alcohol_2[:,0])\n",
    "\n",
    "np.where()"
   ]
  },
  {
   "cell_type": "code",
   "execution_count": 5,
   "metadata": {},
   "outputs": [],
   "source": [
    "world_alcohol_2 = world_alcohol.copy()"
   ]
  },
  {
   "cell_type": "code",
   "execution_count": 11,
   "metadata": {},
   "outputs": [
    {
     "data": {
      "text/plain": [
       "array(['Year', '1986', '1986', ..., '1986', '1987', '1986'], dtype='<U52')"
      ]
     },
     "execution_count": 11,
     "metadata": {},
     "output_type": "execute_result"
    }
   ],
   "source": [
    "world_alcohol_2[:,0]"
   ]
  },
  {
   "cell_type": "markdown",
   "metadata": {},
   "source": [
    "## Replace empty strings\n"
   ]
  },
  {
   "cell_type": "markdown",
   "metadata": {},
   "source": [
    "- Compare all the elements of the 5th column of world_alcohol with the empty character string i.e. ''. Assign the result to the variable is_value_empty.\n",
    "- Select all the values ​​in the 5th column of world_alcohol for which is_value_empty is equal to True and finally replace them with the character string '0'.\n"
   ]
  },
  {
   "cell_type": "code",
   "execution_count": null,
   "metadata": {},
   "outputs": [],
   "source": []
  },
  {
   "cell_type": "markdown",
   "metadata": {},
   "source": [
    "## Convert data types\n"
   ]
  },
  {
   "cell_type": "markdown",
   "metadata": {},
   "source": [
    "- Extract the 5th column from world_alcohol and assign the result to the variable alcohol_consumption.\n",
    "- Use the astype () method to convert alcohol_consumption to decimal (float).\n"
   ]
  },
  {
   "cell_type": "code",
   "execution_count": null,
   "metadata": {},
   "outputs": [],
   "source": []
  },
  {
   "cell_type": "markdown",
   "metadata": {},
   "source": [
    "## Perform mathematical calculations with Numpy\n"
   ]
  },
  {
   "cell_type": "markdown",
   "metadata": {},
   "source": [
    "- Use the sum () method to calculate the sum of the values ​​of alcohol_consumption. Assign the result to the total_alcohol variable.\n",
    "- Use the mean () method to calculate the average of the alcohol_consumption values. Assign the result to the variable average_alcohol.\n",
    "- Show the results.\n"
   ]
  },
  {
   "cell_type": "code",
   "execution_count": null,
   "metadata": {},
   "outputs": [],
   "source": []
  },
  {
   "cell_type": "code",
   "execution_count": null,
   "metadata": {},
   "outputs": [],
   "source": []
  },
  {
   "cell_type": "code",
   "execution_count": null,
   "metadata": {},
   "outputs": [],
   "source": []
  },
  {
   "cell_type": "markdown",
   "metadata": {},
   "source": [
    "## Calculate the total annual consumption per capita for a given country\n"
   ]
  },
  {
   "cell_type": "markdown",
   "metadata": {},
   "source": [
    "- Create a matrix which will be named canada_1986 which contains all the lines of world_alcohol corresponding to the year \"1986\" and to the country \"Canada\".\n",
    "- Extract the 5th column from canada_1986, replace any empty character string ('') with '0' and convert the column to decimal (float). Assign the result to the variable canada_alcohol.\n",
    "- Calculate the sum of canada_alcohol. Assign the result to the variable total_canadian_drinking.\n",
    "- Show result.\n"
   ]
  },
  {
   "cell_type": "code",
   "execution_count": null,
   "metadata": {},
   "outputs": [],
   "source": []
  },
  {
   "cell_type": "code",
   "execution_count": null,
   "metadata": {},
   "outputs": [],
   "source": []
  },
  {
   "cell_type": "code",
   "execution_count": null,
   "metadata": {},
   "outputs": [],
   "source": []
  },
  {
   "cell_type": "code",
   "execution_count": null,
   "metadata": {},
   "outputs": [],
   "source": []
  },
  {
   "cell_type": "code",
   "execution_count": null,
   "metadata": {},
   "outputs": [],
   "source": []
  },
  {
   "cell_type": "markdown",
   "metadata": {},
   "source": [
    "## Calculate consumption for each country\n"
   ]
  },
  {
   "cell_type": "markdown",
   "metadata": {},
   "source": [
    "- First of all, we create an empty dictionary which will contain all the countries and their associated alcohol consumption, we will call it totals.\n",
    "- Then select the lines of world_alcohol corresponding to the given year, say 1989. Assign the result to the year variable.\n",
    "- Select from a list which will be named countries all countries.\n",
    "- Browse all the countries in the list using a loop. For each country:\n",
    "> - Select the year lines corresponding to this country\n",
    "> - Assign the result to the country_consumption variable\n",
    "> - Extract the 5th column from country_consumption\n",
    "> - Replace any empty character string in this column with 0\n",
    "> - Convert the column to decimal (float)\n",
    "> - Calculate the sum of the column\n",
    "> - Add the sum to the totals dictionary, with the country name as the key and value this sum.\n",
    "- Display the totals dictionary.\n"
   ]
  },
  {
   "cell_type": "code",
   "execution_count": null,
   "metadata": {},
   "outputs": [],
   "source": []
  },
  {
   "cell_type": "markdown",
   "metadata": {},
   "source": [
    "## Find the country that consumes the most alcohol\n"
   ]
  },
  {
   "cell_type": "markdown",
   "metadata": {},
   "source": [
    "- Create a variable highest_value which will keep in memory the largest value of the totals dictionary. We set it to 0 to start.\n",
    "- Create a similar variable which will be named highest_key which will keep in memory the name of the country associated with the highest value. We set it to None.\n",
    "- Browse each country of the totals dictionary:\n",
    "> - If the value associated with the country is greater than highest_value, assign the value in question to the variable highest_value and assign the corresponding key (name of the country) to the variable highest_key.\n",
    "- Display the country which consumes the most alcohol (variable highest_key)\n"
   ]
  },
  {
   "cell_type": "code",
   "execution_count": null,
   "metadata": {},
   "outputs": [],
   "source": []
  },
  {
   "cell_type": "code",
   "execution_count": null,
   "metadata": {},
   "outputs": [],
   "source": []
  },
  {
   "cell_type": "code",
   "execution_count": null,
   "metadata": {},
   "outputs": [],
   "source": []
  },
  {
   "cell_type": "code",
   "execution_count": null,
   "metadata": {},
   "outputs": [],
   "source": []
  },
  {
   "cell_type": "code",
   "execution_count": null,
   "metadata": {},
   "outputs": [],
   "source": []
  },
  {
   "cell_type": "code",
   "execution_count": null,
   "metadata": {},
   "outputs": [],
   "source": []
  },
  {
   "cell_type": "code",
   "execution_count": null,
   "metadata": {},
   "outputs": [],
   "source": []
  },
  {
   "cell_type": "code",
   "execution_count": null,
   "metadata": {},
   "outputs": [],
   "source": []
  },
  {
   "cell_type": "code",
   "execution_count": null,
   "metadata": {},
   "outputs": [],
   "source": []
  },
  {
   "cell_type": "code",
   "execution_count": null,
   "metadata": {},
   "outputs": [],
   "source": []
  }
 ],
 "metadata": {
  "kernelspec": {
   "display_name": "Python 3",
   "language": "python",
   "name": "python3"
  },
  "language_info": {
   "codemirror_mode": {
    "name": "ipython",
    "version": 3
   },
   "file_extension": ".py",
   "mimetype": "text/x-python",
   "name": "python",
   "nbconvert_exporter": "python",
   "pygments_lexer": "ipython3",
   "version": "3.7.6"
  }
 },
 "nbformat": 4,
 "nbformat_minor": 2
}
